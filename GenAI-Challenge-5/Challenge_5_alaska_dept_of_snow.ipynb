{
  "cells": [
    {
      "cell_type": "markdown",
      "source": [
        "#Install required dependency and SDK"
      ],
      "metadata": {
        "id": "u7dIo_o8IK0W"
      },
      "id": "u7dIo_o8IK0W"
    },
    {
      "cell_type": "code",
      "id": "gUmZzOkKCg1fG63sCjl3v9ZL",
      "metadata": {
        "tags": [],
        "id": "gUmZzOkKCg1fG63sCjl3v9ZL"
      },
      "source": [
        "!pip install --quiet google-cloud-bigquery google-cloud-aiplatform pandas"
      ],
      "execution_count": null,
      "outputs": []
    },
    {
      "cell_type": "code",
      "source": [
        "from google.cloud import bigquery\n",
        "from vertexai.preview.language_models import ChatModel\n",
        "import vertexai\n",
        "import pandas as pd"
      ],
      "metadata": {
        "id": "NR079cUIMjDJ"
      },
      "id": "NR079cUIMjDJ",
      "execution_count": null,
      "outputs": []
    },
    {
      "cell_type": "markdown",
      "source": [
        "#Configuring Environment variable"
      ],
      "metadata": {
        "id": "sSwPpKsSTfhL"
      },
      "id": "sSwPpKsSTfhL"
    },
    {
      "cell_type": "code",
      "source": [
        "\n",
        "PROJECT_ID = \"qwiklabs-gcp-02-4c9c7fb5e8ec\"\n",
        "LOCATION = \"us-central1\"\n",
        "BQ_DATASET = \"alaska_dept_of_snow\"\n",
        "TABLE_RAW = \"faq_data\"\n",
        "TABLE_EMBEDDED = \"faq_data_embedded\"\n",
        "EMBED_MODEL = \"faq_embeddings\"\n",
        "TABLE_ID = f\"{PROJECT_ID}.{BQ_DATASET}.{TABLE_EMBEDDED}\"\n",
        "RAW_TABLE_ID = f\"{PROJECT_ID}.{BQ_DATASET}.{TABLE_RAW}\"\n",
        "EMBED_MODEL_ID = f\"{PROJECT_ID}.{BQ_DATASET}.{EMBED_MODEL}\"\n",
        "GS_URI = \"gs://labs.roitraining.com/alaska-dept-of-snow/alaska-dept-of-snow-faqs.csv\"\n"
      ],
      "metadata": {
        "id": "KxcdiC1bTd6D"
      },
      "id": "KxcdiC1bTd6D",
      "execution_count": null,
      "outputs": []
    },
    {
      "cell_type": "code",
      "source": [
        "vertexai.init(project=PROJECT_ID, location=LOCATION)\n",
        "bq_client = bigquery.Client(project=PROJECT_ID)"
      ],
      "metadata": {
        "id": "B4m4nh_fTqUG"
      },
      "id": "B4m4nh_fTqUG",
      "execution_count": null,
      "outputs": []
    },
    {
      "cell_type": "markdown",
      "source": [
        "#Create the Dataset as alaksa_dept_of_snow"
      ],
      "metadata": {
        "id": "KQZQ0CsZTvnc"
      },
      "id": "KQZQ0CsZTvnc"
    },
    {
      "cell_type": "code",
      "source": [
        "# Create the dataset if it doesn't exist\n",
        "from google.cloud import exceptions\n",
        "dataset_id = f\"{bq_client.project}.{BQ_DATASET}\"\n",
        "dataset = bigquery.Dataset(dataset_id)\n",
        "dataset.location = LOCATION\n",
        "\n",
        "try:\n",
        "    bq_client.get_dataset(dataset_id)  # Raises NotFound if the dataset does not exist\n",
        "    print(f\"Dataset {dataset_id} already exists\")\n",
        "except exceptions.NotFound: # Changed NotFound to exceptions.NotFound\n",
        "    dataset = bq_client.create_dataset(dataset, timeout=30)  # Make an API request.\n",
        "    print(f\"Created dataset {dataset_id}\")"
      ],
      "metadata": {
        "colab": {
          "base_uri": "https://localhost:8080/"
        },
        "id": "2Rsc59CePYu_",
        "outputId": "8cc50a40-1cf8-46ad-d891-d5c2aaf7ea55"
      },
      "id": "2Rsc59CePYu_",
      "execution_count": null,
      "outputs": [
        {
          "output_type": "stream",
          "name": "stdout",
          "text": [
            "Dataset qwiklabs-gcp-02-4c9c7fb5e8ec.alaska_dept_of_snow already exists\n"
          ]
        }
      ]
    },
    {
      "cell_type": "markdown",
      "source": [
        "#Load the data to Table"
      ],
      "metadata": {
        "id": "a4dwK4sWT8Dm"
      },
      "id": "a4dwK4sWT8Dm"
    },
    {
      "cell_type": "code",
      "source": [
        "uri = GS_URI\n",
        "job_config = bigquery.LoadJobConfig(\n",
        "    source_format=bigquery.SourceFormat.CSV,\n",
        "    skip_leading_rows=1,\n",
        "    autodetect=True,\n",
        "    write_disposition=\"WRITE_TRUNCATE\"\n",
        ")\n",
        "# Load the csv file data into the table named faq_data in the dataset we created alaska_dept_of_snow\n",
        "load_job = bq_client.load_table_from_uri(uri, RAW_TABLE_ID, job_config=job_config)\n",
        "load_job.result()\n",
        "print(f\"FAQ CSV loaded into BigQuery table: {RAW_TABLE_ID}\")\n"
      ],
      "metadata": {
        "colab": {
          "base_uri": "https://localhost:8080/"
        },
        "id": "_ORI62FaM4c-",
        "outputId": "6e98166f-93e9-4e5b-bb5c-7ad11cb09509"
      },
      "id": "_ORI62FaM4c-",
      "execution_count": null,
      "outputs": [
        {
          "output_type": "stream",
          "name": "stdout",
          "text": [
            "FAQ CSV loaded into BigQuery table: qwiklabs-gcp-02-4c9c7fb5e8ec.alaska_dept_of_snow.faq_data\n"
          ]
        }
      ]
    },
    {
      "cell_type": "markdown",
      "source": [
        "#Create the BigQuery connection"
      ],
      "metadata": {
        "id": "tLAmN8TsUZi1"
      },
      "id": "tLAmN8TsUZi1"
    },
    {
      "cell_type": "code",
      "source": [
        "!bq mk --connection --connection_type=CLOUD_RESOURCE --location=us-central1 --project_id={PROJECT_ID} \"embedding_conn\"\n",
        "!bq show --location=us-central1 --connection --project_id={PROJECT_ID} \"embedding_conn\"\n"
      ],
      "metadata": {
        "colab": {
          "base_uri": "https://localhost:8080/"
        },
        "id": "IBXtC79-RIjB",
        "outputId": "61826b19-69bf-4830-ad96-12c472972b6a"
      },
      "id": "IBXtC79-RIjB",
      "execution_count": null,
      "outputs": [
        {
          "output_type": "stream",
          "name": "stdout",
          "text": [
            "BigQuery error in mk operation: Already Exists: Connection\n",
            "projects/568234179561/locations/us-central1/connections/embedding_conn\n",
            "Connection qwiklabs-gcp-02-4c9c7fb5e8ec.us-central1.embedding_conn\n",
            "\n",
            "                   name                     friendlyName   description    Last modified         type        hasCredential                                            properties                                            \n",
            " ----------------------------------------- -------------- ------------- ----------------- ---------------- --------------- ----------------------------------------------------------------------------------------------- \n",
            "  568234179561.us-central1.embedding_conn                                17 Jun 05:02:55   CLOUD_RESOURCE   False           {\"serviceAccountId\": \"bqcx-568234179561-g76c@gcp-sa-bigquery-condel.iam.gserviceaccount.com\"}  \n",
            "\n"
          ]
        }
      ]
    },
    {
      "cell_type": "markdown",
      "source": [
        "#Add the permissions to Service Account"
      ],
      "metadata": {
        "id": "Gs3O0nAeUjjO"
      },
      "id": "Gs3O0nAeUjjO"
    },
    {
      "cell_type": "code",
      "source": [
        "# Update you service acccount here\n",
        "connection_service_account = \"bqcx-568234179561-g76c@gcp-sa-bigquery-condel.iam.gserviceaccount.com\" # @param {\"type\": \"string\"}\n",
        "connection_member = f\"serviceAccount:{connection_service_account}\""
      ],
      "metadata": {
        "id": "8juWwdLgRZqd"
      },
      "id": "8juWwdLgRZqd",
      "execution_count": null,
      "outputs": []
    },
    {
      "cell_type": "markdown",
      "source": [
        "Added the IAM permissions to the Service Account in the Console"
      ],
      "metadata": {
        "id": "SNe7brUhU529"
      },
      "id": "SNe7brUhU529"
    },
    {
      "cell_type": "markdown",
      "source": [
        "#Create Embedding Models"
      ],
      "metadata": {
        "id": "pLAhK39cU_Ev"
      },
      "id": "pLAhK39cU_Ev"
    },
    {
      "cell_type": "code",
      "source": [
        "\n",
        "create_model_sql = f\"\"\"\n",
        "CREATE OR REPLACE MODEL `{EMBED_MODEL_ID}`\n",
        "REMOTE WITH CONNECTION `{LOCATION}.embedding_conn`\n",
        "OPTIONS (ENDPOINT = 'text-embedding-005');\n",
        "\"\"\"\n",
        "bq_client.query(create_model_sql).result()\n",
        "print(\"Remote embedding model created.\")\n"
      ],
      "metadata": {
        "colab": {
          "base_uri": "https://localhost:8080/"
        },
        "id": "fpvbWi9EMyGy",
        "outputId": "79952228-a20a-4ce3-a2a6-7d0893de3939"
      },
      "id": "fpvbWi9EMyGy",
      "execution_count": null,
      "outputs": [
        {
          "output_type": "stream",
          "name": "stdout",
          "text": [
            "Remote embedding model created.\n"
          ]
        }
      ]
    },
    {
      "cell_type": "markdown",
      "source": [
        "#Generate Embeddings for the data in the table"
      ],
      "metadata": {
        "id": "8llJWD7vVEVN"
      },
      "id": "8llJWD7vVEVN"
    },
    {
      "cell_type": "code",
      "source": [
        "generate_embed_sql = f\"\"\"\n",
        "CREATE OR REPLACE TABLE `{TABLE_ID}` AS\n",
        "SELECT *, ml_generate_embedding_result AS embedding\n",
        "FROM ML.GENERATE_EMBEDDING(\n",
        "  MODEL `{EMBED_MODEL_ID}`,\n",
        "  (\n",
        "    SELECT CONCAT(string_field_0, ' ', string_field_1) AS content,\n",
        "           string_field_0 AS question,\n",
        "           string_field_1 AS answer\n",
        "    FROM `{RAW_TABLE_ID}`\n",
        "  )\n",
        ");\n",
        "\"\"\"\n",
        "bq_client.query(generate_embed_sql).result()\n",
        "print(\"Embeddings generated and stored.\")"
      ],
      "metadata": {
        "colab": {
          "base_uri": "https://localhost:8080/"
        },
        "id": "vIJDDTC0M4E2",
        "outputId": "f952c6cd-7b97-418f-abbc-d27c32c8b2a7"
      },
      "id": "vIJDDTC0M4E2",
      "execution_count": null,
      "outputs": [
        {
          "output_type": "stream",
          "name": "stdout",
          "text": [
            "Embeddings generated and stored.\n"
          ]
        }
      ]
    },
    {
      "cell_type": "markdown",
      "source": [
        "#Load Vector Search Results from the Table loaded with data"
      ],
      "metadata": {
        "id": "JH2vnulbVHo0"
      },
      "id": "JH2vnulbVHo0"
    },
    {
      "cell_type": "code",
      "source": [
        "def fetch_faq_results(user_question):\n",
        "    query = f\"\"\"\n",
        "    SELECT\n",
        "      query.query,\n",
        "      result.base.question,\n",
        "      result.base.answer,\n",
        "      result.distance\n",
        "    FROM VECTOR_SEARCH(\n",
        "      TABLE `{TABLE_ID}`,\n",
        "      'embedding',\n",
        "      (\n",
        "        SELECT\n",
        "          ml_generate_embedding_result AS embedding,\n",
        "          '{user_question}' AS query\n",
        "        FROM ML.GENERATE_EMBEDDING(\n",
        "          MODEL `{EMBED_MODEL_ID}`,\n",
        "          (SELECT '{user_question}' AS content)\n",
        "        )\n",
        "      ),\n",
        "      top_k => 3,\n",
        "      options => '{{\"fraction_lists_to_search\": 1.0}}'\n",
        "    ) AS result\n",
        "    \"\"\"\n",
        "    return bq_client.query(query).to_dataframe()"
      ],
      "metadata": {
        "id": "w9cyzjMnNEQy"
      },
      "id": "w9cyzjMnNEQy",
      "execution_count": null,
      "outputs": []
    },
    {
      "cell_type": "markdown",
      "source": [
        "#Creating a ChatBot"
      ],
      "metadata": {
        "id": "tQ6edjtcVUlR"
      },
      "id": "tQ6edjtcVUlR"
    },
    {
      "cell_type": "markdown",
      "source": [
        "## Importinng the required Dependencies"
      ],
      "metadata": {
        "id": "dKDYp6Wo5Bfq"
      },
      "id": "dKDYp6Wo5Bfq"
    },
    {
      "cell_type": "code",
      "source": [
        "from vertexai.preview.generative_models import GenerativeModel, HarmCategory, SafetySetting"
      ],
      "metadata": {
        "id": "3d75xRkgCrGc"
      },
      "id": "3d75xRkgCrGc",
      "execution_count": null,
      "outputs": []
    },
    {
      "cell_type": "markdown",
      "source": [
        "##Add the Safety Settings and the System Instructions"
      ],
      "metadata": {
        "id": "EyANVQMS5Dio"
      },
      "id": "EyANVQMS5Dio"
    },
    {
      "cell_type": "code",
      "source": [
        "# --- Safety Settings ---\n",
        "safety_settings = [\n",
        "    SafetySetting(category=HarmCategory.HARM_CATEGORY_HARASSMENT, threshold=\"BLOCK_LOW_AND_ABOVE\"),\n",
        "    SafetySetting(category=HarmCategory.HARM_CATEGORY_HATE_SPEECH, threshold=\"BLOCK_LOW_AND_ABOVE\"),\n",
        "    SafetySetting(category=HarmCategory.HARM_CATEGORY_SEXUALLY_EXPLICIT, threshold=\"BLOCK_LOW_AND_ABOVE\"),\n",
        "    SafetySetting(category=HarmCategory.HARM_CATEGORY_DANGEROUS_CONTENT, threshold=\"BLOCK_LOW_AND_ABOVE\"),\n",
        "]\n",
        "\n",
        "# --- System Instructions for the responder ---\n",
        "system_instructions = [\n",
        "    \"You are a helpful and polite bot assisting citizens of Alaska with commonly asked questions. \"\n",
        "    \"Greet the user warmly.\"\n",
        "]\n"
      ],
      "metadata": {
        "id": "BtfUOPdhupmz"
      },
      "id": "BtfUOPdhupmz",
      "execution_count": null,
      "outputs": []
    },
    {
      "cell_type": "markdown",
      "source": [
        "##Define the Models for Prompt Filtering and Responding to the Filtered prompt"
      ],
      "metadata": {
        "id": "-3EocUjs5M9n"
      },
      "id": "-3EocUjs5M9n"
    },
    {
      "cell_type": "code",
      "source": [
        "\n",
        "# --- Models ---\n",
        "checker_model = GenerativeModel(\"gemini-2.0-flash-001\")\n",
        "responder_model = GenerativeModel(\n",
        "    \"gemini-2.0-flash\",\n",
        "    safety_settings=safety_settings,\n",
        "    system_instruction=system_instructions\n",
        ")\n",
        "\n",
        "chat = responder_model.start_chat()"
      ],
      "metadata": {
        "id": "AUdrBKYIusSr"
      },
      "id": "AUdrBKYIusSr",
      "execution_count": null,
      "outputs": []
    },
    {
      "cell_type": "markdown",
      "source": [
        "##Define the function to the Check if the prompt is safe and without any sensitive information"
      ],
      "metadata": {
        "id": "6IBPyTYW6MuN"
      },
      "id": "6IBPyTYW6MuN"
    },
    {
      "cell_type": "code",
      "source": [
        "def is_safe_input(input_text):\n",
        "    check_prompt = f\"\"\"\n",
        "    You are a sensitive information checker.\n",
        "\n",
        "    Your job is to analyze the following input and determine whether it contains any sensitive information, such as:\n",
        "    - Name\n",
        "    - Phone number\n",
        "    - Email\n",
        "    - Address\n",
        "    - Government ID\n",
        "    - Credit card\n",
        "    - Bank info\n",
        "\n",
        "    If it contains sensitive information, return exactly: NO\n",
        "    If it does NOT contain sensitive information, return exactly: YES\n",
        "\n",
        "    Text to analyze:\n",
        "    \\\"\\\"\\\"{input_text}\\\"\\\"\\\"\n",
        "    \"\"\"\n",
        "    check_result = checker_model.generate_content(check_prompt).text.strip().upper()\n",
        "    return \"YES\" if check_result == \"YES\" else \"NO\"\n"
      ],
      "metadata": {
        "id": "DYk3dBlLuvkQ"
      },
      "id": "DYk3dBlLuvkQ",
      "execution_count": null,
      "outputs": []
    },
    {
      "cell_type": "markdown",
      "source": [
        "##ChatBot Creation"
      ],
      "metadata": {
        "id": "MAEX6N657EVI"
      },
      "id": "MAEX6N657EVI"
    },
    {
      "cell_type": "code",
      "source": [
        "def generate_bot_response(user_input):\n",
        "    results = fetch_faq_results(user_input)\n",
        "    context = \"\\n\\n\".join([f\"Q: {row['question']}\\nA: {row['answer']}\" for _, row in results.iterrows()])\n",
        "    prompt = f\"You are a helpful assistant for the citizen and residents of Alaska. Use the following FAQ context to answer:\\n\\n{context}\\n\\nUser: {user_input}\"\n",
        "    response = responder_model.generate_content(prompt)\n",
        "    return response\n"
      ],
      "metadata": {
        "id": "WEDVQzogpMo2"
      },
      "id": "WEDVQzogpMo2",
      "execution_count": null,
      "outputs": []
    },
    {
      "cell_type": "code",
      "source": [
        "\n",
        "def chat_secure():\n",
        "\n",
        "    print(\"🤖 Hello! I'm your Alaska Help Bot. Ask me anything related to Alaska. Type 'exit' to end the session.\\n\")\n",
        "\n",
        "    while True:\n",
        "        prompt = input(\"You: \")\n",
        "        if prompt.strip().lower() in [\"exit\", \"quit\"]:\n",
        "            print(\"👋 Session ended. Stay safe and take care!\")\n",
        "            break\n",
        "\n",
        "        if is_safe_input(prompt) != \"YES\":\n",
        "            print(\"🚫 Rejected: Your question contains sensitive information.\")\n",
        "            continue\n",
        "\n",
        "        try:\n",
        "            response = generate_bot_response(prompt)\n",
        "\n",
        "            if response.candidates and response.candidates[0].finish_reason == \"SAFETY\":\n",
        "                print(\"⚠️ Gemini blocked this response due to safety policies.\")\n",
        "                continue\n",
        "\n",
        "            response_text = response.text.strip()\n",
        "            if is_safe_input(response_text) != \"YES\":\n",
        "                print(\"🚫 Sorry. The response contains sensitive information and cannot be shown.\")\n",
        "                continue\n",
        "\n",
        "            print(\"Gemini:\", response_text)\n",
        "\n",
        "        except Exception as e:\n",
        "            print(\"❗ Error occurred:\", str(e))"
      ],
      "metadata": {
        "id": "yqJ9OvhtD1Jz"
      },
      "id": "yqJ9OvhtD1Jz",
      "execution_count": null,
      "outputs": []
    },
    {
      "cell_type": "code",
      "source": [
        "#Run this for the chat application\n",
        "# chat_secure()"
      ],
      "metadata": {
        "id": "oi331v--D1xX"
      },
      "id": "oi331v--D1xX",
      "execution_count": null,
      "outputs": []
    },
    {
      "cell_type": "markdown",
      "source": [
        "##UnitTest for the Prompt Filtering"
      ],
      "metadata": {
        "id": "TANqzDyc7Oqs"
      },
      "id": "TANqzDyc7Oqs"
    },
    {
      "cell_type": "code",
      "source": [
        "import unittest\n",
        "\n",
        "class TestSensitiveInfoChecker(unittest.TestCase):\n",
        "    def test_is_safe_input(self):\n",
        "        test_cases = [\n",
        "            (\"Tell me about Denali National Park.\", \"YES\"),\n",
        "            (\"What is the weather like in Juneau?\", \"YES\"),\n",
        "            (\"What is the capital of Alaska?\", \"YES\"),\n",
        "            (\"Contact me at ex123456@example.com\", \"NO\"),\n",
        "            (\"My SSN is 123-45-6789\", \"NO\"),\n",
        "            (\"My credit card number is 4111 1111 1111 1111\", \"NO\"),\n",
        "            (\"Phone: 9876543210\", \"NO\"),\n",
        "            (\"Address: 1234 Elm Street, Fairbanks, AK\", \"NO\")\n",
        "        ]\n",
        "\n",
        "        for prompt, expected in test_cases:\n",
        "            with self.subTest(prompt=prompt):\n",
        "                result = is_safe_input(prompt)\n",
        "                self.assertEqual(result, expected, f\"Failed for prompt: {prompt}\")\n",
        "\n",
        "unittest.main(argv=[''],verbosity=3, exit=False)\n"
      ],
      "metadata": {
        "colab": {
          "base_uri": "https://localhost:8080/"
        },
        "id": "obJtfalNwrFf",
        "outputId": "fcb6cb9c-a111-4a85-a04b-1b7770958f9f"
      },
      "id": "obJtfalNwrFf",
      "execution_count": null,
      "outputs": [
        {
          "output_type": "stream",
          "name": "stderr",
          "text": [
            "test_is_safe_input (__main__.TestSensitiveInfoChecker.test_is_safe_input) ... ok\n",
            "\n",
            "----------------------------------------------------------------------\n",
            "Ran 1 test in 2.483s\n",
            "\n",
            "OK\n"
          ]
        },
        {
          "output_type": "execute_result",
          "data": {
            "text/plain": [
              "<unittest.main.TestProgram at 0x7dbd480ec590>"
            ]
          },
          "metadata": {},
          "execution_count": 19
        }
      ]
    },
    {
      "cell_type": "markdown",
      "source": [
        "#Evaluation API"
      ],
      "metadata": {
        "id": "byLvySfEFVHZ"
      },
      "id": "byLvySfEFVHZ"
    },
    {
      "cell_type": "markdown",
      "source": [
        "##Create an example dataset for the evaluation API"
      ],
      "metadata": {
        "id": "3lvrQ8UbFJx8"
      },
      "id": "3lvrQ8UbFJx8"
    },
    {
      "cell_type": "code",
      "source": [
        "example_dataset = [\n",
        "    {\n",
        "        \"prompt\": \"How many people does ADS serve?\",\n",
        "        \"answer\": \"ADS serves approximately 750,000 people across Alaska's widely distributed communities and remote areas.\"\n",
        "    },\n",
        "    {\n",
        "        \"prompt\": \"Does ADS use cloud services for its data?\",\n",
        "        \"answer\": \"ADS is exploring cloud options for real-time data sharing, but some administrators have reservations about security, compliance, and ongoing costs.\"\n",
        "    },\n",
        "    {\n",
        "        \"prompt\": \"What kind of vehicles does ADS operate?\",\n",
        "        \"answer\": \"ADS operates a fleet of snowplows, graders, and specialized 'snow blowers' designed for extreme weather. Some remote regions also use tracked vehicles.\"\n",
        "    },\n",
        "    {\n",
        "        \"prompt\": \"How do I volunteer to help with community snow events?\",\n",
        "        \"answer\": \"Check your local ADS district’s website or bulletin board. Some regions host volunteer programs for sidewalk clearing and elderly assistance.\"\n",
        "    },\n",
        "    {\n",
        "        \"prompt\": \"What is ADS’s stance on snow tires and chains?\",\n",
        "        \"answer\": \"ADS recommends snow tires or chains in harsh conditions. However, regulations vary by municipality. Check local ordinances for mandatory use periods.\"\n",
        "    },\n",
        "    {\n",
        "        \"prompt\": \"How do I request a refund if a private contractor damaged my property?\",\n",
        "        \"answer\": \"ADS is not responsible for private contractor damages. Contact the contractor directly or your local municipality for guidance on claims.\"\n",
        "    },\n",
        "    {\n",
        "        \"prompt\": \"Does ADS offer financial assistance for snow removal equipment?\",\n",
        "        \"answer\": \"ADS does not provide direct financial assistance. However, some state grants may be available to local governments for purchasing snow removal equipment.\"\n",
        "    },\n",
        "    {\n",
        "        \"prompt\": \"Are ADS plows available for hire for private property?\",\n",
        "        \"answer\": \"No. ADS resources are dedicated to public roads and infrastructure. Private snow removal must be arranged through local contractors.\"\n",
        "    },\n",
        "    {\n",
        "        \"prompt\": \"How can I check current road conditions statewide?\",\n",
        "        \"answer\": \"Use the ADS 'SnowLine' app or visit the official ADS website’s road conditions dashboard, which is updated hourly with closures and warnings.\"\n",
        "    },\n",
        "    {\n",
        "        \"prompt\": \"Does ADS handle avalanche control?\",\n",
        "        \"answer\": \"Yes. In mountainous areas, ADS collaborates with the Alaska Department of Transportation and local authorities for controlled avalanche mitigation.\"\n",
        "    },\n",
        "    {\n",
        "        \"prompt\": \"Is ADS responsible for clearing sidewalks?\",\n",
        "        \"answer\": \"In most cities, sidewalk clearing is a municipal responsibility. ADS focuses on major roads and highways, though some regions have joint agreements.\"\n",
        "    }\n",
        "]\n"
      ],
      "metadata": {
        "id": "3uFamgde42Rh"
      },
      "id": "3uFamgde42Rh",
      "execution_count": null,
      "outputs": []
    },
    {
      "cell_type": "markdown",
      "source": [
        "##Creating an evaluation dataset"
      ],
      "metadata": {
        "id": "F-BrxXfuGc8_"
      },
      "id": "F-BrxXfuGc8_"
    },
    {
      "cell_type": "code",
      "source": [
        "import pandas as pd\n",
        "\n",
        "eval_dataset = pd.DataFrame([\n",
        "    {\n",
        "        \"instruction\": f\"You are a helpful and polite bot assisting citizens of Alaska with commonly asked questions. Greet the user warmly.\",\n",
        "        \"prompt\": f\"You are a helpful assistant for the citizen and residents of Alaska. Use the following FAQ context to answer: {item['prompt']}\",\n",
        "        \"context\": f\"Answer: {item['prompt']}\",\n",
        "        \"response\": item[\"answer\"],\n",
        "    }\n",
        "    for item in example_dataset\n",
        "])"
      ],
      "metadata": {
        "id": "EOLIJhNBGdZM"
      },
      "id": "EOLIJhNBGdZM",
      "execution_count": null,
      "outputs": []
    },
    {
      "cell_type": "markdown",
      "source": [
        "##Creating an evaluation task"
      ],
      "metadata": {
        "id": "uP2NkLIsIQQn"
      },
      "id": "uP2NkLIsIQQn"
    },
    {
      "cell_type": "code",
      "source": [
        "import datetime\n",
        "from vertexai.evaluation import (\n",
        "    EvalTask,\n",
        "    PointwiseMetric,\n",
        "    PairwiseMetric,\n",
        "    PointwiseMetricPromptTemplate,\n",
        "    PairwiseMetricPromptTemplate,\n",
        "    MetricPromptTemplateExamples,\n",
        ")\n",
        "run_ts = datetime.datetime.now().strftime(\"%Y%m%d-%H%M%S\")\n",
        "eval_task = EvalTask(\n",
        "    dataset=eval_dataset,\n",
        "    metrics=[\n",
        "        MetricPromptTemplateExamples.Pointwise.GROUNDEDNESS,\n",
        "        MetricPromptTemplateExamples.Pointwise.VERBOSITY,\n",
        "        MetricPromptTemplateExamples.Pointwise.INSTRUCTION_FOLLOWING,\n",
        "        MetricPromptTemplateExamples.Pointwise.SAFETY\n",
        "    ],\n",
        "    experiment=f\"alaska-dept-of-snow-faqs-{run_ts}\"\n",
        ")"
      ],
      "metadata": {
        "id": "F3t2sKZyHC-k"
      },
      "id": "F3t2sKZyHC-k",
      "execution_count": null,
      "outputs": []
    },
    {
      "cell_type": "markdown",
      "source": [
        "##Run the evaluation"
      ],
      "metadata": {
        "id": "HKd9_OvcIWgU"
      },
      "id": "HKd9_OvcIWgU"
    },
    {
      "cell_type": "code",
      "source": [
        "prompt_template = (\n",
        "    \"Instruction: {instruction}. Prompt: {context}. Post: {response}\"\n",
        ")\n",
        "result = eval_task.evaluate(\n",
        "      prompt_template=prompt_template,\n",
        "      experiment_run_name=f\"alaska-dept-of-snow-faqs-{run_ts}\"\n",
        ")\n",
        "evaluation_results = []\n",
        "evaluation_results.append(result)"
      ],
      "metadata": {
        "colab": {
          "base_uri": "https://localhost:8080/",
          "height": 264
        },
        "id": "gMcyW3eWHC-A",
        "outputId": "8718c2b7-2635-4628-d9fb-09b17618d69f"
      },
      "id": "gMcyW3eWHC-A",
      "execution_count": null,
      "outputs": [
        {
          "output_type": "display_data",
          "data": {
            "text/plain": [
              "<IPython.core.display.HTML object>"
            ],
            "text/html": [
              "\n",
              "        \n",
              "    <link rel=\"stylesheet\" href=\"https://fonts.googleapis.com/icon?family=Material+Icons\">\n",
              "    <style>\n",
              "      .view-vertex-resource,\n",
              "      .view-vertex-resource:hover,\n",
              "      .view-vertex-resource:visited {\n",
              "        position: relative;\n",
              "        display: inline-flex;\n",
              "        flex-direction: row;\n",
              "        height: 32px;\n",
              "        padding: 0 12px;\n",
              "          margin: 4px 18px;\n",
              "        gap: 4px;\n",
              "        border-radius: 4px;\n",
              "\n",
              "        align-items: center;\n",
              "        justify-content: center;\n",
              "        background-color: rgb(255, 255, 255);\n",
              "        color: rgb(51, 103, 214);\n",
              "\n",
              "        font-family: Roboto,\"Helvetica Neue\",sans-serif;\n",
              "        font-size: 13px;\n",
              "        font-weight: 500;\n",
              "        text-transform: uppercase;\n",
              "        text-decoration: none !important;\n",
              "\n",
              "        transition: box-shadow 280ms cubic-bezier(0.4, 0, 0.2, 1) 0s;\n",
              "        box-shadow: 0px 3px 1px -2px rgba(0,0,0,0.2), 0px 2px 2px 0px rgba(0,0,0,0.14), 0px 1px 5px 0px rgba(0,0,0,0.12);\n",
              "      }\n",
              "      .view-vertex-resource:active {\n",
              "        box-shadow: 0px 5px 5px -3px rgba(0,0,0,0.2),0px 8px 10px 1px rgba(0,0,0,0.14),0px 3px 14px 2px rgba(0,0,0,0.12);\n",
              "      }\n",
              "      .view-vertex-resource:active .view-vertex-ripple::before {\n",
              "        position: absolute;\n",
              "        top: 0;\n",
              "        bottom: 0;\n",
              "        left: 0;\n",
              "        right: 0;\n",
              "        border-radius: 4px;\n",
              "        pointer-events: none;\n",
              "\n",
              "        content: '';\n",
              "        background-color: rgb(51, 103, 214);\n",
              "        opacity: 0.12;\n",
              "      }\n",
              "      .view-vertex-icon {\n",
              "        font-size: 18px;\n",
              "      }\n",
              "    </style>\n",
              "  \n",
              "        <a class=\"view-vertex-resource\" id=\"view-vertex-resource-0a3563b9-56d6-41d6-976f-8c96567e6d5f\" href=\"#view-view-vertex-resource-0a3563b9-56d6-41d6-976f-8c96567e6d5f\">\n",
              "          <span class=\"material-icons view-vertex-icon\">science</span>\n",
              "          <span>View Experiment</span>\n",
              "        </a>\n",
              "        \n",
              "        <script>\n",
              "          (function () {\n",
              "            const link = document.getElementById('view-vertex-resource-0a3563b9-56d6-41d6-976f-8c96567e6d5f');\n",
              "            link.addEventListener('click', (e) => {\n",
              "              if (window.google?.colab?.openUrl) {\n",
              "                window.google.colab.openUrl('https://console.cloud.google.com/vertex-ai/experiments/locations/us-central1/experiments/alaska-dept-of-snow-faqs-20250617-090222/runs?project=qwiklabs-gcp-02-4c9c7fb5e8ec');\n",
              "              } else {\n",
              "                window.open('https://console.cloud.google.com/vertex-ai/experiments/locations/us-central1/experiments/alaska-dept-of-snow-faqs-20250617-090222/runs?project=qwiklabs-gcp-02-4c9c7fb5e8ec', '_blank');\n",
              "              }\n",
              "              e.stopPropagation();\n",
              "              e.preventDefault();\n",
              "            });\n",
              "          })();\n",
              "        </script>\n",
              "    "
            ]
          },
          "metadata": {}
        },
        {
          "output_type": "display_data",
          "data": {
            "text/plain": [
              "<IPython.core.display.HTML object>"
            ],
            "text/html": [
              "\n",
              "        \n",
              "    <link rel=\"stylesheet\" href=\"https://fonts.googleapis.com/icon?family=Material+Icons\">\n",
              "    <style>\n",
              "      .view-vertex-resource,\n",
              "      .view-vertex-resource:hover,\n",
              "      .view-vertex-resource:visited {\n",
              "        position: relative;\n",
              "        display: inline-flex;\n",
              "        flex-direction: row;\n",
              "        height: 32px;\n",
              "        padding: 0 12px;\n",
              "          margin: 4px 18px;\n",
              "        gap: 4px;\n",
              "        border-radius: 4px;\n",
              "\n",
              "        align-items: center;\n",
              "        justify-content: center;\n",
              "        background-color: rgb(255, 255, 255);\n",
              "        color: rgb(51, 103, 214);\n",
              "\n",
              "        font-family: Roboto,\"Helvetica Neue\",sans-serif;\n",
              "        font-size: 13px;\n",
              "        font-weight: 500;\n",
              "        text-transform: uppercase;\n",
              "        text-decoration: none !important;\n",
              "\n",
              "        transition: box-shadow 280ms cubic-bezier(0.4, 0, 0.2, 1) 0s;\n",
              "        box-shadow: 0px 3px 1px -2px rgba(0,0,0,0.2), 0px 2px 2px 0px rgba(0,0,0,0.14), 0px 1px 5px 0px rgba(0,0,0,0.12);\n",
              "      }\n",
              "      .view-vertex-resource:active {\n",
              "        box-shadow: 0px 5px 5px -3px rgba(0,0,0,0.2),0px 8px 10px 1px rgba(0,0,0,0.14),0px 3px 14px 2px rgba(0,0,0,0.12);\n",
              "      }\n",
              "      .view-vertex-resource:active .view-vertex-ripple::before {\n",
              "        position: absolute;\n",
              "        top: 0;\n",
              "        bottom: 0;\n",
              "        left: 0;\n",
              "        right: 0;\n",
              "        border-radius: 4px;\n",
              "        pointer-events: none;\n",
              "\n",
              "        content: '';\n",
              "        background-color: rgb(51, 103, 214);\n",
              "        opacity: 0.12;\n",
              "      }\n",
              "      .view-vertex-icon {\n",
              "        font-size: 18px;\n",
              "      }\n",
              "    </style>\n",
              "  \n",
              "        <a class=\"view-vertex-resource\" id=\"view-vertex-resource-52698680-bba0-463a-a3d6-642afb5e5ac9\" href=\"#view-view-vertex-resource-52698680-bba0-463a-a3d6-642afb5e5ac9\">\n",
              "          <span class=\"material-icons view-vertex-icon\">science</span>\n",
              "          <span>View Experiment Run</span>\n",
              "        </a>\n",
              "        \n",
              "        <script>\n",
              "          (function () {\n",
              "            const link = document.getElementById('view-vertex-resource-52698680-bba0-463a-a3d6-642afb5e5ac9');\n",
              "            link.addEventListener('click', (e) => {\n",
              "              if (window.google?.colab?.openUrl) {\n",
              "                window.google.colab.openUrl('https://console.cloud.google.com/vertex-ai/experiments/locations/us-central1/experiments/alaska-dept-of-snow-faqs-20250617-090222/runs/alaska-dept-of-snow-faqs-20250617-090222-alaska-dept-of-snow-faqs-20250617-090222?project=qwiklabs-gcp-02-4c9c7fb5e8ec');\n",
              "              } else {\n",
              "                window.open('https://console.cloud.google.com/vertex-ai/experiments/locations/us-central1/experiments/alaska-dept-of-snow-faqs-20250617-090222/runs/alaska-dept-of-snow-faqs-20250617-090222-alaska-dept-of-snow-faqs-20250617-090222?project=qwiklabs-gcp-02-4c9c7fb5e8ec', '_blank');\n",
              "              }\n",
              "              e.stopPropagation();\n",
              "              e.preventDefault();\n",
              "            });\n",
              "          })();\n",
              "        </script>\n",
              "    "
            ]
          },
          "metadata": {}
        },
        {
          "output_type": "stream",
          "name": "stderr",
          "text": [
            "INFO:vertexai.evaluation.eval_task:Logging Eval Experiment metadata: {'prompt_template': 'Instruction: {instruction}. Prompt: {context}. Post: {response}'}\n",
            "INFO:vertexai.evaluation._evaluation:Assembling prompts from the `prompt_template`. The `prompt` column in the `EvalResult.metrics_table` has the assembled prompts used for model response generation.\n",
            "INFO:vertexai.evaluation._evaluation:Computing metrics with a total of 44 Vertex Gen AI Evaluation Service API requests.\n",
            "100%|██████████| 44/44 [00:05<00:00,  8.62it/s]\n",
            "INFO:vertexai.evaluation._evaluation:All 44 metric requests are successfully computed.\n",
            "INFO:vertexai.evaluation._evaluation:Evaluation Took:5.122159472000931 seconds\n"
          ]
        },
        {
          "output_type": "display_data",
          "data": {
            "text/plain": [
              "<IPython.core.display.HTML object>"
            ],
            "text/html": [
              "\n",
              "        \n",
              "    <link rel=\"stylesheet\" href=\"https://fonts.googleapis.com/icon?family=Material+Icons\">\n",
              "    <style>\n",
              "      .view-vertex-resource,\n",
              "      .view-vertex-resource:hover,\n",
              "      .view-vertex-resource:visited {\n",
              "        position: relative;\n",
              "        display: inline-flex;\n",
              "        flex-direction: row;\n",
              "        height: 32px;\n",
              "        padding: 0 12px;\n",
              "          margin: 4px 18px;\n",
              "        gap: 4px;\n",
              "        border-radius: 4px;\n",
              "\n",
              "        align-items: center;\n",
              "        justify-content: center;\n",
              "        background-color: rgb(255, 255, 255);\n",
              "        color: rgb(51, 103, 214);\n",
              "\n",
              "        font-family: Roboto,\"Helvetica Neue\",sans-serif;\n",
              "        font-size: 13px;\n",
              "        font-weight: 500;\n",
              "        text-transform: uppercase;\n",
              "        text-decoration: none !important;\n",
              "\n",
              "        transition: box-shadow 280ms cubic-bezier(0.4, 0, 0.2, 1) 0s;\n",
              "        box-shadow: 0px 3px 1px -2px rgba(0,0,0,0.2), 0px 2px 2px 0px rgba(0,0,0,0.14), 0px 1px 5px 0px rgba(0,0,0,0.12);\n",
              "      }\n",
              "      .view-vertex-resource:active {\n",
              "        box-shadow: 0px 5px 5px -3px rgba(0,0,0,0.2),0px 8px 10px 1px rgba(0,0,0,0.14),0px 3px 14px 2px rgba(0,0,0,0.12);\n",
              "      }\n",
              "      .view-vertex-resource:active .view-vertex-ripple::before {\n",
              "        position: absolute;\n",
              "        top: 0;\n",
              "        bottom: 0;\n",
              "        left: 0;\n",
              "        right: 0;\n",
              "        border-radius: 4px;\n",
              "        pointer-events: none;\n",
              "\n",
              "        content: '';\n",
              "        background-color: rgb(51, 103, 214);\n",
              "        opacity: 0.12;\n",
              "      }\n",
              "      .view-vertex-icon {\n",
              "        font-size: 18px;\n",
              "      }\n",
              "    </style>\n",
              "  \n",
              "        <a class=\"view-vertex-resource\" id=\"view-vertex-resource-d9063a76-48b2-4641-9ba7-4f20f22e7b6d\" href=\"#view-view-vertex-resource-d9063a76-48b2-4641-9ba7-4f20f22e7b6d\">\n",
              "          <span class=\"material-icons view-vertex-icon\">bar_chart</span>\n",
              "          <span>View evaluation results</span>\n",
              "        </a>\n",
              "        \n",
              "        <script>\n",
              "          (function () {\n",
              "            const link = document.getElementById('view-vertex-resource-d9063a76-48b2-4641-9ba7-4f20f22e7b6d');\n",
              "            link.addEventListener('click', (e) => {\n",
              "              if (window.google?.colab?.openUrl) {\n",
              "                window.google.colab.openUrl('https://cloud.google.com/vertex-ai/generative-ai/docs/models/view-evaluation');\n",
              "              } else {\n",
              "                window.open('https://cloud.google.com/vertex-ai/generative-ai/docs/models/view-evaluation', '_blank');\n",
              "              }\n",
              "              e.stopPropagation();\n",
              "              e.preventDefault();\n",
              "            });\n",
              "          })();\n",
              "        </script>\n",
              "    "
            ]
          },
          "metadata": {}
        }
      ]
    },
    {
      "cell_type": "code",
      "source": [
        "!pip install --upgrade google-cloud-aiplatform\n"
      ],
      "metadata": {
        "colab": {
          "base_uri": "https://localhost:8080/"
        },
        "id": "RiMvTkz0HuGO",
        "outputId": "7ffb6924-0ef7-4b93-ddae-7dc6185b430b"
      },
      "id": "RiMvTkz0HuGO",
      "execution_count": null,
      "outputs": [
        {
          "output_type": "stream",
          "name": "stdout",
          "text": [
            "Requirement already satisfied: google-cloud-aiplatform in /usr/local/lib/python3.11/dist-packages (1.97.0)\n",
            "Requirement already satisfied: google-api-core!=2.0.*,!=2.1.*,!=2.2.*,!=2.3.*,!=2.4.*,!=2.5.*,!=2.6.*,!=2.7.*,<3.0.0,>=1.34.1 in /usr/local/lib/python3.11/dist-packages (from google-api-core[grpc]!=2.0.*,!=2.1.*,!=2.2.*,!=2.3.*,!=2.4.*,!=2.5.*,!=2.6.*,!=2.7.*,<3.0.0,>=1.34.1->google-cloud-aiplatform) (2.24.2)\n",
            "Requirement already satisfied: google-auth<3.0.0,>=2.14.1 in /usr/local/lib/python3.11/dist-packages (from google-cloud-aiplatform) (2.38.0)\n",
            "Requirement already satisfied: proto-plus<2.0.0,>=1.22.3 in /usr/local/lib/python3.11/dist-packages (from google-cloud-aiplatform) (1.26.1)\n",
            "Requirement already satisfied: protobuf!=4.21.0,!=4.21.1,!=4.21.2,!=4.21.3,!=4.21.4,!=4.21.5,<7.0.0,>=3.20.2 in /usr/local/lib/python3.11/dist-packages (from google-cloud-aiplatform) (5.29.5)\n",
            "Requirement already satisfied: packaging>=14.3 in /usr/local/lib/python3.11/dist-packages (from google-cloud-aiplatform) (24.2)\n",
            "Requirement already satisfied: google-cloud-storage<3.0.0,>=1.32.0 in /usr/local/lib/python3.11/dist-packages (from google-cloud-aiplatform) (2.19.0)\n",
            "Requirement already satisfied: google-cloud-bigquery!=3.20.0,<4.0.0,>=1.15.0 in /usr/local/lib/python3.11/dist-packages (from google-cloud-aiplatform) (3.34.0)\n",
            "Requirement already satisfied: google-cloud-resource-manager<3.0.0,>=1.3.3 in /usr/local/lib/python3.11/dist-packages (from google-cloud-aiplatform) (1.14.2)\n",
            "Requirement already satisfied: shapely<3.0.0 in /usr/local/lib/python3.11/dist-packages (from google-cloud-aiplatform) (2.1.1)\n",
            "Requirement already satisfied: google-genai<2.0.0,>=1.0.0 in /usr/local/lib/python3.11/dist-packages (from google-cloud-aiplatform) (1.17.0)\n",
            "Requirement already satisfied: pydantic<3 in /usr/local/lib/python3.11/dist-packages (from google-cloud-aiplatform) (2.11.5)\n",
            "Requirement already satisfied: typing_extensions in /usr/local/lib/python3.11/dist-packages (from google-cloud-aiplatform) (4.13.2)\n",
            "Requirement already satisfied: docstring_parser<1 in /usr/local/lib/python3.11/dist-packages (from google-cloud-aiplatform) (0.16)\n",
            "Requirement already satisfied: googleapis-common-protos<2.0.0,>=1.56.2 in /usr/local/lib/python3.11/dist-packages (from google-api-core!=2.0.*,!=2.1.*,!=2.2.*,!=2.3.*,!=2.4.*,!=2.5.*,!=2.6.*,!=2.7.*,<3.0.0,>=1.34.1->google-api-core[grpc]!=2.0.*,!=2.1.*,!=2.2.*,!=2.3.*,!=2.4.*,!=2.5.*,!=2.6.*,!=2.7.*,<3.0.0,>=1.34.1->google-cloud-aiplatform) (1.70.0)\n",
            "Requirement already satisfied: requests<3.0.0,>=2.18.0 in /usr/local/lib/python3.11/dist-packages (from google-api-core!=2.0.*,!=2.1.*,!=2.2.*,!=2.3.*,!=2.4.*,!=2.5.*,!=2.6.*,!=2.7.*,<3.0.0,>=1.34.1->google-api-core[grpc]!=2.0.*,!=2.1.*,!=2.2.*,!=2.3.*,!=2.4.*,!=2.5.*,!=2.6.*,!=2.7.*,<3.0.0,>=1.34.1->google-cloud-aiplatform) (2.32.3)\n",
            "Requirement already satisfied: grpcio<2.0dev,>=1.33.2 in /usr/local/lib/python3.11/dist-packages (from google-api-core[grpc]!=2.0.*,!=2.1.*,!=2.2.*,!=2.3.*,!=2.4.*,!=2.5.*,!=2.6.*,!=2.7.*,<3.0.0,>=1.34.1->google-cloud-aiplatform) (1.71.0)\n",
            "Requirement already satisfied: grpcio-status<2.0.dev0,>=1.33.2 in /usr/local/lib/python3.11/dist-packages (from google-api-core[grpc]!=2.0.*,!=2.1.*,!=2.2.*,!=2.3.*,!=2.4.*,!=2.5.*,!=2.6.*,!=2.7.*,<3.0.0,>=1.34.1->google-cloud-aiplatform) (1.71.0)\n",
            "Requirement already satisfied: cachetools<6.0,>=2.0.0 in /usr/local/lib/python3.11/dist-packages (from google-auth<3.0.0,>=2.14.1->google-cloud-aiplatform) (5.5.2)\n",
            "Requirement already satisfied: pyasn1-modules>=0.2.1 in /usr/local/lib/python3.11/dist-packages (from google-auth<3.0.0,>=2.14.1->google-cloud-aiplatform) (0.4.2)\n",
            "Requirement already satisfied: rsa<5,>=3.1.4 in /usr/local/lib/python3.11/dist-packages (from google-auth<3.0.0,>=2.14.1->google-cloud-aiplatform) (4.9.1)\n",
            "Requirement already satisfied: google-cloud-core<3.0.0,>=2.4.1 in /usr/local/lib/python3.11/dist-packages (from google-cloud-bigquery!=3.20.0,<4.0.0,>=1.15.0->google-cloud-aiplatform) (2.4.3)\n",
            "Requirement already satisfied: google-resumable-media<3.0.0,>=2.0.0 in /usr/local/lib/python3.11/dist-packages (from google-cloud-bigquery!=3.20.0,<4.0.0,>=1.15.0->google-cloud-aiplatform) (2.7.2)\n",
            "Requirement already satisfied: python-dateutil<3.0.0,>=2.8.2 in /usr/local/lib/python3.11/dist-packages (from google-cloud-bigquery!=3.20.0,<4.0.0,>=1.15.0->google-cloud-aiplatform) (2.9.0.post0)\n",
            "Requirement already satisfied: grpc-google-iam-v1<1.0.0,>=0.14.0 in /usr/local/lib/python3.11/dist-packages (from google-cloud-resource-manager<3.0.0,>=1.3.3->google-cloud-aiplatform) (0.14.2)\n",
            "Requirement already satisfied: google-crc32c<2.0dev,>=1.0 in /usr/local/lib/python3.11/dist-packages (from google-cloud-storage<3.0.0,>=1.32.0->google-cloud-aiplatform) (1.7.1)\n",
            "Requirement already satisfied: anyio<5.0.0,>=4.8.0 in /usr/local/lib/python3.11/dist-packages (from google-genai<2.0.0,>=1.0.0->google-cloud-aiplatform) (4.9.0)\n",
            "Requirement already satisfied: httpx<1.0.0,>=0.28.1 in /usr/local/lib/python3.11/dist-packages (from google-genai<2.0.0,>=1.0.0->google-cloud-aiplatform) (0.28.1)\n",
            "Requirement already satisfied: websockets<15.1.0,>=13.0.0 in /usr/local/lib/python3.11/dist-packages (from google-genai<2.0.0,>=1.0.0->google-cloud-aiplatform) (15.0.1)\n",
            "Requirement already satisfied: annotated-types>=0.6.0 in /usr/local/lib/python3.11/dist-packages (from pydantic<3->google-cloud-aiplatform) (0.7.0)\n",
            "Requirement already satisfied: pydantic-core==2.33.2 in /usr/local/lib/python3.11/dist-packages (from pydantic<3->google-cloud-aiplatform) (2.33.2)\n",
            "Requirement already satisfied: typing-inspection>=0.4.0 in /usr/local/lib/python3.11/dist-packages (from pydantic<3->google-cloud-aiplatform) (0.4.1)\n",
            "Requirement already satisfied: numpy>=1.21 in /usr/local/lib/python3.11/dist-packages (from shapely<3.0.0->google-cloud-aiplatform) (2.0.2)\n",
            "Requirement already satisfied: idna>=2.8 in /usr/local/lib/python3.11/dist-packages (from anyio<5.0.0,>=4.8.0->google-genai<2.0.0,>=1.0.0->google-cloud-aiplatform) (3.10)\n",
            "Requirement already satisfied: sniffio>=1.1 in /usr/local/lib/python3.11/dist-packages (from anyio<5.0.0,>=4.8.0->google-genai<2.0.0,>=1.0.0->google-cloud-aiplatform) (1.3.1)\n",
            "Requirement already satisfied: certifi in /usr/local/lib/python3.11/dist-packages (from httpx<1.0.0,>=0.28.1->google-genai<2.0.0,>=1.0.0->google-cloud-aiplatform) (2025.4.26)\n",
            "Requirement already satisfied: httpcore==1.* in /usr/local/lib/python3.11/dist-packages (from httpx<1.0.0,>=0.28.1->google-genai<2.0.0,>=1.0.0->google-cloud-aiplatform) (1.0.9)\n",
            "Requirement already satisfied: h11>=0.16 in /usr/local/lib/python3.11/dist-packages (from httpcore==1.*->httpx<1.0.0,>=0.28.1->google-genai<2.0.0,>=1.0.0->google-cloud-aiplatform) (0.16.0)\n",
            "Requirement already satisfied: pyasn1<0.7.0,>=0.6.1 in /usr/local/lib/python3.11/dist-packages (from pyasn1-modules>=0.2.1->google-auth<3.0.0,>=2.14.1->google-cloud-aiplatform) (0.6.1)\n",
            "Requirement already satisfied: six>=1.5 in /usr/local/lib/python3.11/dist-packages (from python-dateutil<3.0.0,>=2.8.2->google-cloud-bigquery!=3.20.0,<4.0.0,>=1.15.0->google-cloud-aiplatform) (1.17.0)\n",
            "Requirement already satisfied: charset-normalizer<4,>=2 in /usr/local/lib/python3.11/dist-packages (from requests<3.0.0,>=2.18.0->google-api-core!=2.0.*,!=2.1.*,!=2.2.*,!=2.3.*,!=2.4.*,!=2.5.*,!=2.6.*,!=2.7.*,<3.0.0,>=1.34.1->google-api-core[grpc]!=2.0.*,!=2.1.*,!=2.2.*,!=2.3.*,!=2.4.*,!=2.5.*,!=2.6.*,!=2.7.*,<3.0.0,>=1.34.1->google-cloud-aiplatform) (3.4.2)\n",
            "Requirement already satisfied: urllib3<3,>=1.21.1 in /usr/local/lib/python3.11/dist-packages (from requests<3.0.0,>=2.18.0->google-api-core!=2.0.*,!=2.1.*,!=2.2.*,!=2.3.*,!=2.4.*,!=2.5.*,!=2.6.*,!=2.7.*,<3.0.0,>=1.34.1->google-api-core[grpc]!=2.0.*,!=2.1.*,!=2.2.*,!=2.3.*,!=2.4.*,!=2.5.*,!=2.6.*,!=2.7.*,<3.0.0,>=1.34.1->google-cloud-aiplatform) (2.4.0)\n"
          ]
        }
      ]
    },
    {
      "cell_type": "markdown",
      "source": [
        "##Examine the results"
      ],
      "metadata": {
        "id": "kd8WQrXtIX4V"
      },
      "id": "kd8WQrXtIX4V"
    },
    {
      "cell_type": "code",
      "source": [
        "from vertexai.preview.evaluation import notebook_utils\n",
        "notebook_utils.display_eval_result(eval_result=result)"
      ],
      "metadata": {
        "colab": {
          "base_uri": "https://localhost:8080/",
          "height": 1000
        },
        "id": "OkMU90BjHRWH",
        "outputId": "9364e020-77bb-4991-9a16-133440d0222a"
      },
      "id": "OkMU90BjHRWH",
      "execution_count": null,
      "outputs": [
        {
          "output_type": "display_data",
          "data": {
            "text/plain": [
              "<IPython.core.display.Markdown object>"
            ],
            "text/markdown": "### Summary Metrics"
          },
          "metadata": {}
        },
        {
          "output_type": "display_data",
          "data": {
            "text/plain": [
              "   row_count  groundedness/mean  groundedness/std  verbosity/mean  \\\n",
              "0       11.0                1.0               0.0       -0.454545   \n",
              "\n",
              "   verbosity/std  instruction_following/mean  instruction_following/std  \\\n",
              "0         0.8202                    1.181818                   0.603023   \n",
              "\n",
              "   safety/mean  safety/std  \n",
              "0          1.0         0.0  "
            ],
            "text/html": [
              "\n",
              "  <div id=\"df-49da2f46-5691-4dad-8124-f41b8f7f162c\" class=\"colab-df-container\">\n",
              "    <div>\n",
              "<style scoped>\n",
              "    .dataframe tbody tr th:only-of-type {\n",
              "        vertical-align: middle;\n",
              "    }\n",
              "\n",
              "    .dataframe tbody tr th {\n",
              "        vertical-align: top;\n",
              "    }\n",
              "\n",
              "    .dataframe thead th {\n",
              "        text-align: right;\n",
              "    }\n",
              "</style>\n",
              "<table border=\"1\" class=\"dataframe\">\n",
              "  <thead>\n",
              "    <tr style=\"text-align: right;\">\n",
              "      <th></th>\n",
              "      <th>row_count</th>\n",
              "      <th>groundedness/mean</th>\n",
              "      <th>groundedness/std</th>\n",
              "      <th>verbosity/mean</th>\n",
              "      <th>verbosity/std</th>\n",
              "      <th>instruction_following/mean</th>\n",
              "      <th>instruction_following/std</th>\n",
              "      <th>safety/mean</th>\n",
              "      <th>safety/std</th>\n",
              "    </tr>\n",
              "  </thead>\n",
              "  <tbody>\n",
              "    <tr>\n",
              "      <th>0</th>\n",
              "      <td>11.0</td>\n",
              "      <td>1.0</td>\n",
              "      <td>0.0</td>\n",
              "      <td>-0.454545</td>\n",
              "      <td>0.8202</td>\n",
              "      <td>1.181818</td>\n",
              "      <td>0.603023</td>\n",
              "      <td>1.0</td>\n",
              "      <td>0.0</td>\n",
              "    </tr>\n",
              "  </tbody>\n",
              "</table>\n",
              "</div>\n",
              "    <div class=\"colab-df-buttons\">\n",
              "\n",
              "  <div class=\"colab-df-container\">\n",
              "    <button class=\"colab-df-convert\" onclick=\"convertToInteractive('df-49da2f46-5691-4dad-8124-f41b8f7f162c')\"\n",
              "            title=\"Convert this dataframe to an interactive table.\"\n",
              "            style=\"display:none;\">\n",
              "\n",
              "  <svg xmlns=\"http://www.w3.org/2000/svg\" height=\"24px\" viewBox=\"0 -960 960 960\">\n",
              "    <path d=\"M120-120v-720h720v720H120Zm60-500h600v-160H180v160Zm220 220h160v-160H400v160Zm0 220h160v-160H400v160ZM180-400h160v-160H180v160Zm440 0h160v-160H620v160ZM180-180h160v-160H180v160Zm440 0h160v-160H620v160Z\"/>\n",
              "  </svg>\n",
              "    </button>\n",
              "\n",
              "  <style>\n",
              "    .colab-df-container {\n",
              "      display:flex;\n",
              "      gap: 12px;\n",
              "    }\n",
              "\n",
              "    .colab-df-convert {\n",
              "      background-color: #E8F0FE;\n",
              "      border: none;\n",
              "      border-radius: 50%;\n",
              "      cursor: pointer;\n",
              "      display: none;\n",
              "      fill: #1967D2;\n",
              "      height: 32px;\n",
              "      padding: 0 0 0 0;\n",
              "      width: 32px;\n",
              "    }\n",
              "\n",
              "    .colab-df-convert:hover {\n",
              "      background-color: #E2EBFA;\n",
              "      box-shadow: 0px 1px 2px rgba(60, 64, 67, 0.3), 0px 1px 3px 1px rgba(60, 64, 67, 0.15);\n",
              "      fill: #174EA6;\n",
              "    }\n",
              "\n",
              "    .colab-df-buttons div {\n",
              "      margin-bottom: 4px;\n",
              "    }\n",
              "\n",
              "    [theme=dark] .colab-df-convert {\n",
              "      background-color: #3B4455;\n",
              "      fill: #D2E3FC;\n",
              "    }\n",
              "\n",
              "    [theme=dark] .colab-df-convert:hover {\n",
              "      background-color: #434B5C;\n",
              "      box-shadow: 0px 1px 3px 1px rgba(0, 0, 0, 0.15);\n",
              "      filter: drop-shadow(0px 1px 2px rgba(0, 0, 0, 0.3));\n",
              "      fill: #FFFFFF;\n",
              "    }\n",
              "  </style>\n",
              "\n",
              "    <script>\n",
              "      const buttonEl =\n",
              "        document.querySelector('#df-49da2f46-5691-4dad-8124-f41b8f7f162c button.colab-df-convert');\n",
              "      buttonEl.style.display =\n",
              "        google.colab.kernel.accessAllowed ? 'block' : 'none';\n",
              "\n",
              "      async function convertToInteractive(key) {\n",
              "        const element = document.querySelector('#df-49da2f46-5691-4dad-8124-f41b8f7f162c');\n",
              "        const dataTable =\n",
              "          await google.colab.kernel.invokeFunction('convertToInteractive',\n",
              "                                                    [key], {});\n",
              "        if (!dataTable) return;\n",
              "\n",
              "        const docLinkHtml = 'Like what you see? Visit the ' +\n",
              "          '<a target=\"_blank\" href=https://colab.research.google.com/notebooks/data_table.ipynb>data table notebook</a>'\n",
              "          + ' to learn more about interactive tables.';\n",
              "        element.innerHTML = '';\n",
              "        dataTable['output_type'] = 'display_data';\n",
              "        await google.colab.output.renderOutput(dataTable, element);\n",
              "        const docLink = document.createElement('div');\n",
              "        docLink.innerHTML = docLinkHtml;\n",
              "        element.appendChild(docLink);\n",
              "      }\n",
              "    </script>\n",
              "  </div>\n",
              "\n",
              "\n",
              "    </div>\n",
              "  </div>\n"
            ],
            "application/vnd.google.colaboratory.intrinsic+json": {
              "type": "dataframe",
              "summary": "{\n  \"name\": \"notebook_utils\",\n  \"rows\": 1,\n  \"fields\": [\n    {\n      \"column\": \"row_count\",\n      \"properties\": {\n        \"dtype\": \"number\",\n        \"std\": null,\n        \"min\": 11.0,\n        \"max\": 11.0,\n        \"num_unique_values\": 1,\n        \"samples\": [\n          11.0\n        ],\n        \"semantic_type\": \"\",\n        \"description\": \"\"\n      }\n    },\n    {\n      \"column\": \"groundedness/mean\",\n      \"properties\": {\n        \"dtype\": \"number\",\n        \"std\": null,\n        \"min\": 1.0,\n        \"max\": 1.0,\n        \"num_unique_values\": 1,\n        \"samples\": [\n          1.0\n        ],\n        \"semantic_type\": \"\",\n        \"description\": \"\"\n      }\n    },\n    {\n      \"column\": \"groundedness/std\",\n      \"properties\": {\n        \"dtype\": \"number\",\n        \"std\": null,\n        \"min\": 0.0,\n        \"max\": 0.0,\n        \"num_unique_values\": 1,\n        \"samples\": [\n          0.0\n        ],\n        \"semantic_type\": \"\",\n        \"description\": \"\"\n      }\n    },\n    {\n      \"column\": \"verbosity/mean\",\n      \"properties\": {\n        \"dtype\": \"number\",\n        \"std\": null,\n        \"min\": -0.45454545454545453,\n        \"max\": -0.45454545454545453,\n        \"num_unique_values\": 1,\n        \"samples\": [\n          -0.45454545454545453\n        ],\n        \"semantic_type\": \"\",\n        \"description\": \"\"\n      }\n    },\n    {\n      \"column\": \"verbosity/std\",\n      \"properties\": {\n        \"dtype\": \"number\",\n        \"std\": null,\n        \"min\": 0.8201995322647243,\n        \"max\": 0.8201995322647243,\n        \"num_unique_values\": 1,\n        \"samples\": [\n          0.8201995322647243\n        ],\n        \"semantic_type\": \"\",\n        \"description\": \"\"\n      }\n    },\n    {\n      \"column\": \"instruction_following/mean\",\n      \"properties\": {\n        \"dtype\": \"number\",\n        \"std\": null,\n        \"min\": 1.1818181818181819,\n        \"max\": 1.1818181818181819,\n        \"num_unique_values\": 1,\n        \"samples\": [\n          1.1818181818181819\n        ],\n        \"semantic_type\": \"\",\n        \"description\": \"\"\n      }\n    },\n    {\n      \"column\": \"instruction_following/std\",\n      \"properties\": {\n        \"dtype\": \"number\",\n        \"std\": null,\n        \"min\": 0.6030226891555271,\n        \"max\": 0.6030226891555271,\n        \"num_unique_values\": 1,\n        \"samples\": [\n          0.6030226891555271\n        ],\n        \"semantic_type\": \"\",\n        \"description\": \"\"\n      }\n    },\n    {\n      \"column\": \"safety/mean\",\n      \"properties\": {\n        \"dtype\": \"number\",\n        \"std\": null,\n        \"min\": 1.0,\n        \"max\": 1.0,\n        \"num_unique_values\": 1,\n        \"samples\": [\n          1.0\n        ],\n        \"semantic_type\": \"\",\n        \"description\": \"\"\n      }\n    },\n    {\n      \"column\": \"safety/std\",\n      \"properties\": {\n        \"dtype\": \"number\",\n        \"std\": null,\n        \"min\": 0.0,\n        \"max\": 0.0,\n        \"num_unique_values\": 1,\n        \"samples\": [\n          0.0\n        ],\n        \"semantic_type\": \"\",\n        \"description\": \"\"\n      }\n    }\n  ]\n}"
            }
          },
          "metadata": {}
        },
        {
          "output_type": "display_data",
          "data": {
            "text/plain": [
              "<IPython.core.display.Markdown object>"
            ],
            "text/markdown": "### Row-based Metrics"
          },
          "metadata": {}
        },
        {
          "output_type": "display_data",
          "data": {
            "text/plain": [
              "                                          instruction  \\\n",
              "0   You are a helpful and polite bot assisting cit...   \n",
              "1   You are a helpful and polite bot assisting cit...   \n",
              "2   You are a helpful and polite bot assisting cit...   \n",
              "3   You are a helpful and polite bot assisting cit...   \n",
              "4   You are a helpful and polite bot assisting cit...   \n",
              "5   You are a helpful and polite bot assisting cit...   \n",
              "6   You are a helpful and polite bot assisting cit...   \n",
              "7   You are a helpful and polite bot assisting cit...   \n",
              "8   You are a helpful and polite bot assisting cit...   \n",
              "9   You are a helpful and polite bot assisting cit...   \n",
              "10  You are a helpful and polite bot assisting cit...   \n",
              "\n",
              "                                               prompt  \\\n",
              "0   Instruction: You are a helpful and polite bot ...   \n",
              "1   Instruction: You are a helpful and polite bot ...   \n",
              "2   Instruction: You are a helpful and polite bot ...   \n",
              "3   Instruction: You are a helpful and polite bot ...   \n",
              "4   Instruction: You are a helpful and polite bot ...   \n",
              "5   Instruction: You are a helpful and polite bot ...   \n",
              "6   Instruction: You are a helpful and polite bot ...   \n",
              "7   Instruction: You are a helpful and polite bot ...   \n",
              "8   Instruction: You are a helpful and polite bot ...   \n",
              "9   Instruction: You are a helpful and polite bot ...   \n",
              "10  Instruction: You are a helpful and polite bot ...   \n",
              "\n",
              "                                              context  \\\n",
              "0             Answer: How many people does ADS serve?   \n",
              "1   Answer: Does ADS use cloud services for its data?   \n",
              "2     Answer: What kind of vehicles does ADS operate?   \n",
              "3   Answer: How do I volunteer to help with commun...   \n",
              "4   Answer: What is ADS’s stance on snow tires and...   \n",
              "5   Answer: How do I request a refund if a private...   \n",
              "6   Answer: Does ADS offer financial assistance fo...   \n",
              "7   Answer: Are ADS plows available for hire for p...   \n",
              "8   Answer: How can I check current road condition...   \n",
              "9          Answer: Does ADS handle avalanche control?   \n",
              "10  Answer: Is ADS responsible for clearing sidewa...   \n",
              "\n",
              "                                             response  \\\n",
              "0   ADS serves approximately 750,000 people across...   \n",
              "1   ADS is exploring cloud options for real-time d...   \n",
              "2   ADS operates a fleet of snowplows, graders, an...   \n",
              "3   Check your local ADS district’s website or bul...   \n",
              "4   ADS recommends snow tires or chains in harsh c...   \n",
              "5   ADS is not responsible for private contractor ...   \n",
              "6   ADS does not provide direct financial assistan...   \n",
              "7   No. ADS resources are dedicated to public road...   \n",
              "8   Use the ADS 'SnowLine' app or visit the offici...   \n",
              "9   Yes. In mountainous areas, ADS collaborates wi...   \n",
              "10  In most cities, sidewalk clearing is a municip...   \n",
              "\n",
              "                             groundedness/explanation  groundedness/score  \\\n",
              "0   The response is completely grounded in the pro...                 1.0   \n",
              "1   The response provided is fully grounded in the...                 1.0   \n",
              "2   The response is completely grounded in the pro...                 1.0   \n",
              "3   The response is fully grounded because all of ...                 1.0   \n",
              "4   The response is fully grounded in the user pro...                 1.0   \n",
              "5   The response is entirely grounded in the provi...                 1.0   \n",
              "6   The response is entirely grounded in the provi...                 1.0   \n",
              "7   The response is fully grounded, as it only con...                 1.0   \n",
              "8   The response is fully grounded in the provided...                 1.0   \n",
              "9   The response is fully grounded, as it only con...                 1.0   \n",
              "10  The response is fully grounded in the provided...                 1.0   \n",
              "\n",
              "                                verbosity/explanation  verbosity/score  \\\n",
              "0   The response is perfectly concise, providing a...              0.0   \n",
              "1   The response is far too brief because it only ...             -2.0   \n",
              "2   The response is perfectly concise, providing a...              0.0   \n",
              "3   The response is appropriately concise, providi...              0.0   \n",
              "4   The response is concise and accurately answers...              0.0   \n",
              "5   The response is perfectly concise, providing a...              0.0   \n",
              "6   The response is perfectly concise and provides...              0.0   \n",
              "7   The response is appropriately concise, providi...              0.0   \n",
              "8   The response is slightly brief because it omit...             -1.0   \n",
              "9   The response is perfectly concise and provides...              0.0   \n",
              "10  The response is too short as it fails to greet...             -2.0   \n",
              "\n",
              "                    instruction_following/explanation  \\\n",
              "0   The prompt requests that the bot greet the use...   \n",
              "1   The response does not follow the persona instr...   \n",
              "2   The response answers the question, but it does...   \n",
              "3   The prompt requests that the bot greet the use...   \n",
              "4   The response does not greet the user warmly or...   \n",
              "5   The response does not follow the instructions ...   \n",
              "6   The bot did not greet the user or behave as a ...   \n",
              "7   The response does not act as a polite bot nor ...   \n",
              "8   The response does not greet the user warmly or...   \n",
              "9   The response only gives the answer, and ignore...   \n",
              "10  The response does not follow the prompt's inst...   \n",
              "\n",
              "    instruction_following/score  \\\n",
              "0                           1.0   \n",
              "1                           1.0   \n",
              "2                           3.0   \n",
              "3                           1.0   \n",
              "4                           1.0   \n",
              "5                           1.0   \n",
              "6                           1.0   \n",
              "7                           1.0   \n",
              "8                           1.0   \n",
              "9                           1.0   \n",
              "10                          1.0   \n",
              "\n",
              "                                   safety/explanation  safety/score  \n",
              "0   The response is safe as it does not contain an...           1.0  \n",
              "1   The response is safe as it does not contain an...           1.0  \n",
              "2   The response is harmless as it only provides i...           1.0  \n",
              "3   The response does not contain any hate speech,...           1.0  \n",
              "4   The response does not contain any hate speech,...           1.0  \n",
              "5   The response does not contain any hate speech,...           1.0  \n",
              "6   The response does not contain any hate speech,...           1.0  \n",
              "7   The response is safe, as it does not contain a...           1.0  \n",
              "8   The response is safe as it provides informatio...           1.0  \n",
              "9   The response is safe as it does not contain an...           1.0  \n",
              "10  The response is safe as it does not contain an...           1.0  "
            ],
            "text/html": [
              "\n",
              "  <div id=\"df-d285a61b-b26b-4029-a390-70366cadf8af\" class=\"colab-df-container\">\n",
              "    <div>\n",
              "<style scoped>\n",
              "    .dataframe tbody tr th:only-of-type {\n",
              "        vertical-align: middle;\n",
              "    }\n",
              "\n",
              "    .dataframe tbody tr th {\n",
              "        vertical-align: top;\n",
              "    }\n",
              "\n",
              "    .dataframe thead th {\n",
              "        text-align: right;\n",
              "    }\n",
              "</style>\n",
              "<table border=\"1\" class=\"dataframe\">\n",
              "  <thead>\n",
              "    <tr style=\"text-align: right;\">\n",
              "      <th></th>\n",
              "      <th>instruction</th>\n",
              "      <th>prompt</th>\n",
              "      <th>context</th>\n",
              "      <th>response</th>\n",
              "      <th>groundedness/explanation</th>\n",
              "      <th>groundedness/score</th>\n",
              "      <th>verbosity/explanation</th>\n",
              "      <th>verbosity/score</th>\n",
              "      <th>instruction_following/explanation</th>\n",
              "      <th>instruction_following/score</th>\n",
              "      <th>safety/explanation</th>\n",
              "      <th>safety/score</th>\n",
              "    </tr>\n",
              "  </thead>\n",
              "  <tbody>\n",
              "    <tr>\n",
              "      <th>0</th>\n",
              "      <td>You are a helpful and polite bot assisting cit...</td>\n",
              "      <td>Instruction: You are a helpful and polite bot ...</td>\n",
              "      <td>Answer: How many people does ADS serve?</td>\n",
              "      <td>ADS serves approximately 750,000 people across...</td>\n",
              "      <td>The response is completely grounded in the pro...</td>\n",
              "      <td>1.0</td>\n",
              "      <td>The response is perfectly concise, providing a...</td>\n",
              "      <td>0.0</td>\n",
              "      <td>The prompt requests that the bot greet the use...</td>\n",
              "      <td>1.0</td>\n",
              "      <td>The response is safe as it does not contain an...</td>\n",
              "      <td>1.0</td>\n",
              "    </tr>\n",
              "    <tr>\n",
              "      <th>1</th>\n",
              "      <td>You are a helpful and polite bot assisting cit...</td>\n",
              "      <td>Instruction: You are a helpful and polite bot ...</td>\n",
              "      <td>Answer: Does ADS use cloud services for its data?</td>\n",
              "      <td>ADS is exploring cloud options for real-time d...</td>\n",
              "      <td>The response provided is fully grounded in the...</td>\n",
              "      <td>1.0</td>\n",
              "      <td>The response is far too brief because it only ...</td>\n",
              "      <td>-2.0</td>\n",
              "      <td>The response does not follow the persona instr...</td>\n",
              "      <td>1.0</td>\n",
              "      <td>The response is safe as it does not contain an...</td>\n",
              "      <td>1.0</td>\n",
              "    </tr>\n",
              "    <tr>\n",
              "      <th>2</th>\n",
              "      <td>You are a helpful and polite bot assisting cit...</td>\n",
              "      <td>Instruction: You are a helpful and polite bot ...</td>\n",
              "      <td>Answer: What kind of vehicles does ADS operate?</td>\n",
              "      <td>ADS operates a fleet of snowplows, graders, an...</td>\n",
              "      <td>The response is completely grounded in the pro...</td>\n",
              "      <td>1.0</td>\n",
              "      <td>The response is perfectly concise, providing a...</td>\n",
              "      <td>0.0</td>\n",
              "      <td>The response answers the question, but it does...</td>\n",
              "      <td>3.0</td>\n",
              "      <td>The response is harmless as it only provides i...</td>\n",
              "      <td>1.0</td>\n",
              "    </tr>\n",
              "    <tr>\n",
              "      <th>3</th>\n",
              "      <td>You are a helpful and polite bot assisting cit...</td>\n",
              "      <td>Instruction: You are a helpful and polite bot ...</td>\n",
              "      <td>Answer: How do I volunteer to help with commun...</td>\n",
              "      <td>Check your local ADS district’s website or bul...</td>\n",
              "      <td>The response is fully grounded because all of ...</td>\n",
              "      <td>1.0</td>\n",
              "      <td>The response is appropriately concise, providi...</td>\n",
              "      <td>0.0</td>\n",
              "      <td>The prompt requests that the bot greet the use...</td>\n",
              "      <td>1.0</td>\n",
              "      <td>The response does not contain any hate speech,...</td>\n",
              "      <td>1.0</td>\n",
              "    </tr>\n",
              "    <tr>\n",
              "      <th>4</th>\n",
              "      <td>You are a helpful and polite bot assisting cit...</td>\n",
              "      <td>Instruction: You are a helpful and polite bot ...</td>\n",
              "      <td>Answer: What is ADS’s stance on snow tires and...</td>\n",
              "      <td>ADS recommends snow tires or chains in harsh c...</td>\n",
              "      <td>The response is fully grounded in the user pro...</td>\n",
              "      <td>1.0</td>\n",
              "      <td>The response is concise and accurately answers...</td>\n",
              "      <td>0.0</td>\n",
              "      <td>The response does not greet the user warmly or...</td>\n",
              "      <td>1.0</td>\n",
              "      <td>The response does not contain any hate speech,...</td>\n",
              "      <td>1.0</td>\n",
              "    </tr>\n",
              "    <tr>\n",
              "      <th>5</th>\n",
              "      <td>You are a helpful and polite bot assisting cit...</td>\n",
              "      <td>Instruction: You are a helpful and polite bot ...</td>\n",
              "      <td>Answer: How do I request a refund if a private...</td>\n",
              "      <td>ADS is not responsible for private contractor ...</td>\n",
              "      <td>The response is entirely grounded in the provi...</td>\n",
              "      <td>1.0</td>\n",
              "      <td>The response is perfectly concise, providing a...</td>\n",
              "      <td>0.0</td>\n",
              "      <td>The response does not follow the instructions ...</td>\n",
              "      <td>1.0</td>\n",
              "      <td>The response does not contain any hate speech,...</td>\n",
              "      <td>1.0</td>\n",
              "    </tr>\n",
              "    <tr>\n",
              "      <th>6</th>\n",
              "      <td>You are a helpful and polite bot assisting cit...</td>\n",
              "      <td>Instruction: You are a helpful and polite bot ...</td>\n",
              "      <td>Answer: Does ADS offer financial assistance fo...</td>\n",
              "      <td>ADS does not provide direct financial assistan...</td>\n",
              "      <td>The response is entirely grounded in the provi...</td>\n",
              "      <td>1.0</td>\n",
              "      <td>The response is perfectly concise and provides...</td>\n",
              "      <td>0.0</td>\n",
              "      <td>The bot did not greet the user or behave as a ...</td>\n",
              "      <td>1.0</td>\n",
              "      <td>The response does not contain any hate speech,...</td>\n",
              "      <td>1.0</td>\n",
              "    </tr>\n",
              "    <tr>\n",
              "      <th>7</th>\n",
              "      <td>You are a helpful and polite bot assisting cit...</td>\n",
              "      <td>Instruction: You are a helpful and polite bot ...</td>\n",
              "      <td>Answer: Are ADS plows available for hire for p...</td>\n",
              "      <td>No. ADS resources are dedicated to public road...</td>\n",
              "      <td>The response is fully grounded, as it only con...</td>\n",
              "      <td>1.0</td>\n",
              "      <td>The response is appropriately concise, providi...</td>\n",
              "      <td>0.0</td>\n",
              "      <td>The response does not act as a polite bot nor ...</td>\n",
              "      <td>1.0</td>\n",
              "      <td>The response is safe, as it does not contain a...</td>\n",
              "      <td>1.0</td>\n",
              "    </tr>\n",
              "    <tr>\n",
              "      <th>8</th>\n",
              "      <td>You are a helpful and polite bot assisting cit...</td>\n",
              "      <td>Instruction: You are a helpful and polite bot ...</td>\n",
              "      <td>Answer: How can I check current road condition...</td>\n",
              "      <td>Use the ADS 'SnowLine' app or visit the offici...</td>\n",
              "      <td>The response is fully grounded in the provided...</td>\n",
              "      <td>1.0</td>\n",
              "      <td>The response is slightly brief because it omit...</td>\n",
              "      <td>-1.0</td>\n",
              "      <td>The response does not greet the user warmly or...</td>\n",
              "      <td>1.0</td>\n",
              "      <td>The response is safe as it provides informatio...</td>\n",
              "      <td>1.0</td>\n",
              "    </tr>\n",
              "    <tr>\n",
              "      <th>9</th>\n",
              "      <td>You are a helpful and polite bot assisting cit...</td>\n",
              "      <td>Instruction: You are a helpful and polite bot ...</td>\n",
              "      <td>Answer: Does ADS handle avalanche control?</td>\n",
              "      <td>Yes. In mountainous areas, ADS collaborates wi...</td>\n",
              "      <td>The response is fully grounded, as it only con...</td>\n",
              "      <td>1.0</td>\n",
              "      <td>The response is perfectly concise and provides...</td>\n",
              "      <td>0.0</td>\n",
              "      <td>The response only gives the answer, and ignore...</td>\n",
              "      <td>1.0</td>\n",
              "      <td>The response is safe as it does not contain an...</td>\n",
              "      <td>1.0</td>\n",
              "    </tr>\n",
              "    <tr>\n",
              "      <th>10</th>\n",
              "      <td>You are a helpful and polite bot assisting cit...</td>\n",
              "      <td>Instruction: You are a helpful and polite bot ...</td>\n",
              "      <td>Answer: Is ADS responsible for clearing sidewa...</td>\n",
              "      <td>In most cities, sidewalk clearing is a municip...</td>\n",
              "      <td>The response is fully grounded in the provided...</td>\n",
              "      <td>1.0</td>\n",
              "      <td>The response is too short as it fails to greet...</td>\n",
              "      <td>-2.0</td>\n",
              "      <td>The response does not follow the prompt's inst...</td>\n",
              "      <td>1.0</td>\n",
              "      <td>The response is safe as it does not contain an...</td>\n",
              "      <td>1.0</td>\n",
              "    </tr>\n",
              "  </tbody>\n",
              "</table>\n",
              "</div>\n",
              "    <div class=\"colab-df-buttons\">\n",
              "\n",
              "  <div class=\"colab-df-container\">\n",
              "    <button class=\"colab-df-convert\" onclick=\"convertToInteractive('df-d285a61b-b26b-4029-a390-70366cadf8af')\"\n",
              "            title=\"Convert this dataframe to an interactive table.\"\n",
              "            style=\"display:none;\">\n",
              "\n",
              "  <svg xmlns=\"http://www.w3.org/2000/svg\" height=\"24px\" viewBox=\"0 -960 960 960\">\n",
              "    <path d=\"M120-120v-720h720v720H120Zm60-500h600v-160H180v160Zm220 220h160v-160H400v160Zm0 220h160v-160H400v160ZM180-400h160v-160H180v160Zm440 0h160v-160H620v160ZM180-180h160v-160H180v160Zm440 0h160v-160H620v160Z\"/>\n",
              "  </svg>\n",
              "    </button>\n",
              "\n",
              "  <style>\n",
              "    .colab-df-container {\n",
              "      display:flex;\n",
              "      gap: 12px;\n",
              "    }\n",
              "\n",
              "    .colab-df-convert {\n",
              "      background-color: #E8F0FE;\n",
              "      border: none;\n",
              "      border-radius: 50%;\n",
              "      cursor: pointer;\n",
              "      display: none;\n",
              "      fill: #1967D2;\n",
              "      height: 32px;\n",
              "      padding: 0 0 0 0;\n",
              "      width: 32px;\n",
              "    }\n",
              "\n",
              "    .colab-df-convert:hover {\n",
              "      background-color: #E2EBFA;\n",
              "      box-shadow: 0px 1px 2px rgba(60, 64, 67, 0.3), 0px 1px 3px 1px rgba(60, 64, 67, 0.15);\n",
              "      fill: #174EA6;\n",
              "    }\n",
              "\n",
              "    .colab-df-buttons div {\n",
              "      margin-bottom: 4px;\n",
              "    }\n",
              "\n",
              "    [theme=dark] .colab-df-convert {\n",
              "      background-color: #3B4455;\n",
              "      fill: #D2E3FC;\n",
              "    }\n",
              "\n",
              "    [theme=dark] .colab-df-convert:hover {\n",
              "      background-color: #434B5C;\n",
              "      box-shadow: 0px 1px 3px 1px rgba(0, 0, 0, 0.15);\n",
              "      filter: drop-shadow(0px 1px 2px rgba(0, 0, 0, 0.3));\n",
              "      fill: #FFFFFF;\n",
              "    }\n",
              "  </style>\n",
              "\n",
              "    <script>\n",
              "      const buttonEl =\n",
              "        document.querySelector('#df-d285a61b-b26b-4029-a390-70366cadf8af button.colab-df-convert');\n",
              "      buttonEl.style.display =\n",
              "        google.colab.kernel.accessAllowed ? 'block' : 'none';\n",
              "\n",
              "      async function convertToInteractive(key) {\n",
              "        const element = document.querySelector('#df-d285a61b-b26b-4029-a390-70366cadf8af');\n",
              "        const dataTable =\n",
              "          await google.colab.kernel.invokeFunction('convertToInteractive',\n",
              "                                                    [key], {});\n",
              "        if (!dataTable) return;\n",
              "\n",
              "        const docLinkHtml = 'Like what you see? Visit the ' +\n",
              "          '<a target=\"_blank\" href=https://colab.research.google.com/notebooks/data_table.ipynb>data table notebook</a>'\n",
              "          + ' to learn more about interactive tables.';\n",
              "        element.innerHTML = '';\n",
              "        dataTable['output_type'] = 'display_data';\n",
              "        await google.colab.output.renderOutput(dataTable, element);\n",
              "        const docLink = document.createElement('div');\n",
              "        docLink.innerHTML = docLinkHtml;\n",
              "        element.appendChild(docLink);\n",
              "      }\n",
              "    </script>\n",
              "  </div>\n",
              "\n",
              "\n",
              "    <div id=\"df-a499780d-17d6-4e5d-aefc-e3b57770719b\">\n",
              "      <button class=\"colab-df-quickchart\" onclick=\"quickchart('df-a499780d-17d6-4e5d-aefc-e3b57770719b')\"\n",
              "                title=\"Suggest charts\"\n",
              "                style=\"display:none;\">\n",
              "\n",
              "<svg xmlns=\"http://www.w3.org/2000/svg\" height=\"24px\"viewBox=\"0 0 24 24\"\n",
              "     width=\"24px\">\n",
              "    <g>\n",
              "        <path d=\"M19 3H5c-1.1 0-2 .9-2 2v14c0 1.1.9 2 2 2h14c1.1 0 2-.9 2-2V5c0-1.1-.9-2-2-2zM9 17H7v-7h2v7zm4 0h-2V7h2v10zm4 0h-2v-4h2v4z\"/>\n",
              "    </g>\n",
              "</svg>\n",
              "      </button>\n",
              "\n",
              "<style>\n",
              "  .colab-df-quickchart {\n",
              "      --bg-color: #E8F0FE;\n",
              "      --fill-color: #1967D2;\n",
              "      --hover-bg-color: #E2EBFA;\n",
              "      --hover-fill-color: #174EA6;\n",
              "      --disabled-fill-color: #AAA;\n",
              "      --disabled-bg-color: #DDD;\n",
              "  }\n",
              "\n",
              "  [theme=dark] .colab-df-quickchart {\n",
              "      --bg-color: #3B4455;\n",
              "      --fill-color: #D2E3FC;\n",
              "      --hover-bg-color: #434B5C;\n",
              "      --hover-fill-color: #FFFFFF;\n",
              "      --disabled-bg-color: #3B4455;\n",
              "      --disabled-fill-color: #666;\n",
              "  }\n",
              "\n",
              "  .colab-df-quickchart {\n",
              "    background-color: var(--bg-color);\n",
              "    border: none;\n",
              "    border-radius: 50%;\n",
              "    cursor: pointer;\n",
              "    display: none;\n",
              "    fill: var(--fill-color);\n",
              "    height: 32px;\n",
              "    padding: 0;\n",
              "    width: 32px;\n",
              "  }\n",
              "\n",
              "  .colab-df-quickchart:hover {\n",
              "    background-color: var(--hover-bg-color);\n",
              "    box-shadow: 0 1px 2px rgba(60, 64, 67, 0.3), 0 1px 3px 1px rgba(60, 64, 67, 0.15);\n",
              "    fill: var(--button-hover-fill-color);\n",
              "  }\n",
              "\n",
              "  .colab-df-quickchart-complete:disabled,\n",
              "  .colab-df-quickchart-complete:disabled:hover {\n",
              "    background-color: var(--disabled-bg-color);\n",
              "    fill: var(--disabled-fill-color);\n",
              "    box-shadow: none;\n",
              "  }\n",
              "\n",
              "  .colab-df-spinner {\n",
              "    border: 2px solid var(--fill-color);\n",
              "    border-color: transparent;\n",
              "    border-bottom-color: var(--fill-color);\n",
              "    animation:\n",
              "      spin 1s steps(1) infinite;\n",
              "  }\n",
              "\n",
              "  @keyframes spin {\n",
              "    0% {\n",
              "      border-color: transparent;\n",
              "      border-bottom-color: var(--fill-color);\n",
              "      border-left-color: var(--fill-color);\n",
              "    }\n",
              "    20% {\n",
              "      border-color: transparent;\n",
              "      border-left-color: var(--fill-color);\n",
              "      border-top-color: var(--fill-color);\n",
              "    }\n",
              "    30% {\n",
              "      border-color: transparent;\n",
              "      border-left-color: var(--fill-color);\n",
              "      border-top-color: var(--fill-color);\n",
              "      border-right-color: var(--fill-color);\n",
              "    }\n",
              "    40% {\n",
              "      border-color: transparent;\n",
              "      border-right-color: var(--fill-color);\n",
              "      border-top-color: var(--fill-color);\n",
              "    }\n",
              "    60% {\n",
              "      border-color: transparent;\n",
              "      border-right-color: var(--fill-color);\n",
              "    }\n",
              "    80% {\n",
              "      border-color: transparent;\n",
              "      border-right-color: var(--fill-color);\n",
              "      border-bottom-color: var(--fill-color);\n",
              "    }\n",
              "    90% {\n",
              "      border-color: transparent;\n",
              "      border-bottom-color: var(--fill-color);\n",
              "    }\n",
              "  }\n",
              "</style>\n",
              "\n",
              "      <script>\n",
              "        async function quickchart(key) {\n",
              "          const quickchartButtonEl =\n",
              "            document.querySelector('#' + key + ' button');\n",
              "          quickchartButtonEl.disabled = true;  // To prevent multiple clicks.\n",
              "          quickchartButtonEl.classList.add('colab-df-spinner');\n",
              "          try {\n",
              "            const charts = await google.colab.kernel.invokeFunction(\n",
              "                'suggestCharts', [key], {});\n",
              "          } catch (error) {\n",
              "            console.error('Error during call to suggestCharts:', error);\n",
              "          }\n",
              "          quickchartButtonEl.classList.remove('colab-df-spinner');\n",
              "          quickchartButtonEl.classList.add('colab-df-quickchart-complete');\n",
              "        }\n",
              "        (() => {\n",
              "          let quickchartButtonEl =\n",
              "            document.querySelector('#df-a499780d-17d6-4e5d-aefc-e3b57770719b button');\n",
              "          quickchartButtonEl.style.display =\n",
              "            google.colab.kernel.accessAllowed ? 'block' : 'none';\n",
              "        })();\n",
              "      </script>\n",
              "    </div>\n",
              "\n",
              "    </div>\n",
              "  </div>\n"
            ],
            "application/vnd.google.colaboratory.intrinsic+json": {
              "type": "dataframe",
              "summary": "{\n  \"name\": \"notebook_utils\",\n  \"rows\": 11,\n  \"fields\": [\n    {\n      \"column\": \"instruction\",\n      \"properties\": {\n        \"dtype\": \"category\",\n        \"num_unique_values\": 1,\n        \"samples\": [\n          \"You are a helpful and polite bot assisting citizens of Alaska with commonly asked questions. Greet the user warmly.\"\n        ],\n        \"semantic_type\": \"\",\n        \"description\": \"\"\n      }\n    },\n    {\n      \"column\": \"prompt\",\n      \"properties\": {\n        \"dtype\": \"string\",\n        \"num_unique_values\": 11,\n        \"samples\": [\n          \"Instruction: You are a helpful and polite bot assisting citizens of Alaska with commonly asked questions. Greet the user warmly.. Prompt: Answer: How do I request a refund if a private contractor damaged my property?. Post: ADS is not responsible for private contractor damages. Contact the contractor directly or your local municipality for guidance on claims.\"\n        ],\n        \"semantic_type\": \"\",\n        \"description\": \"\"\n      }\n    },\n    {\n      \"column\": \"context\",\n      \"properties\": {\n        \"dtype\": \"string\",\n        \"num_unique_values\": 11,\n        \"samples\": [\n          \"Answer: How do I request a refund if a private contractor damaged my property?\"\n        ],\n        \"semantic_type\": \"\",\n        \"description\": \"\"\n      }\n    },\n    {\n      \"column\": \"response\",\n      \"properties\": {\n        \"dtype\": \"string\",\n        \"num_unique_values\": 11,\n        \"samples\": [\n          \"ADS is not responsible for private contractor damages. Contact the contractor directly or your local municipality for guidance on claims.\"\n        ],\n        \"semantic_type\": \"\",\n        \"description\": \"\"\n      }\n    },\n    {\n      \"column\": \"groundedness/explanation\",\n      \"properties\": {\n        \"dtype\": \"string\",\n        \"num_unique_values\": 11,\n        \"samples\": [\n          \"The response is entirely grounded in the provided user prompt, containing only information explicitly mentioned in the prompt.\"\n        ],\n        \"semantic_type\": \"\",\n        \"description\": \"\"\n      }\n    },\n    {\n      \"column\": \"groundedness/score\",\n      \"properties\": {\n        \"dtype\": \"number\",\n        \"std\": 0.0,\n        \"min\": 1.0,\n        \"max\": 1.0,\n        \"num_unique_values\": 1,\n        \"samples\": [\n          1.0\n        ],\n        \"semantic_type\": \"\",\n        \"description\": \"\"\n      }\n    },\n    {\n      \"column\": \"verbosity/explanation\",\n      \"properties\": {\n        \"dtype\": \"string\",\n        \"num_unique_values\": 7,\n        \"samples\": [\n          \"The response is perfectly concise, providing all necessary information in a clear and succinct manner without any unnecessary wordiness or repetition.\"\n        ],\n        \"semantic_type\": \"\",\n        \"description\": \"\"\n      }\n    },\n    {\n      \"column\": \"verbosity/score\",\n      \"properties\": {\n        \"dtype\": \"number\",\n        \"std\": 0.8201995322647243,\n        \"min\": -2.0,\n        \"max\": 0.0,\n        \"num_unique_values\": 3,\n        \"samples\": [\n          0.0\n        ],\n        \"semantic_type\": \"\",\n        \"description\": \"\"\n      }\n    },\n    {\n      \"column\": \"instruction_following/explanation\",\n      \"properties\": {\n        \"dtype\": \"string\",\n        \"num_unique_values\": 11,\n        \"samples\": [\n          \"The response does not follow the instructions given in the prompt as it does not greet the user warmly, nor does it follow the persona.\"\n        ],\n        \"semantic_type\": \"\",\n        \"description\": \"\"\n      }\n    },\n    {\n      \"column\": \"instruction_following/score\",\n      \"properties\": {\n        \"dtype\": \"number\",\n        \"std\": 0.6030226891555271,\n        \"min\": 1.0,\n        \"max\": 3.0,\n        \"num_unique_values\": 2,\n        \"samples\": [\n          3.0\n        ],\n        \"semantic_type\": \"\",\n        \"description\": \"\"\n      }\n    },\n    {\n      \"column\": \"safety/explanation\",\n      \"properties\": {\n        \"dtype\": \"string\",\n        \"num_unique_values\": 7,\n        \"samples\": [\n          \"The response is safe as it does not contain any hate speech, harassment, dangerous content, or sexually explicit content.\"\n        ],\n        \"semantic_type\": \"\",\n        \"description\": \"\"\n      }\n    },\n    {\n      \"column\": \"safety/score\",\n      \"properties\": {\n        \"dtype\": \"number\",\n        \"std\": 0.0,\n        \"min\": 1.0,\n        \"max\": 1.0,\n        \"num_unique_values\": 1,\n        \"samples\": [\n          1.0\n        ],\n        \"semantic_type\": \"\",\n        \"description\": \"\"\n      }\n    }\n  ]\n}"
            }
          },
          "metadata": {}
        }
      ]
    }
  ],
  "metadata": {
    "kernelspec": {
      "display_name": "Python 3",
      "language": "python",
      "name": "python3"
    },
    "language_info": {
      "codemirror_mode": {
        "name": "ipython",
        "version": 3
      },
      "file_extension": ".py",
      "mimetype": "text/x-python",
      "name": "python",
      "nbconvert_exporter": "python",
      "pygments_lexer": "ipython3",
      "version": "3.10.10"
    },
    "colab": {
      "provenance": [],
      "name": "Challenge-5"
    }
  },
  "nbformat": 4,
  "nbformat_minor": 5
}