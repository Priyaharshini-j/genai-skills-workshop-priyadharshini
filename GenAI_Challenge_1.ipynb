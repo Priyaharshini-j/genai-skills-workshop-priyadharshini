{
  "cells": [
    {
      "cell_type": "markdown",
      "source": [
        "Import the necessary packages for the SafetySettings of the Gemini"
      ],
      "metadata": {
        "id": "XOAs1taSQp11"
      },
      "id": "XOAs1taSQp11"
    },
    {
      "cell_type": "code",
      "id": "6UiAxp1BkfsWSkF6L1AZqfwa",
      "metadata": {
        "tags": [],
        "id": "6UiAxp1BkfsWSkF6L1AZqfwa"
      },
      "source": [
        "from google.cloud import aiplatform\n",
        "from vertexai.preview.generative_models import GenerativeModel, ChatSession, HarmCategory, SafetySetting\n",
        "from google.api_core.exceptions import InvalidArgument, PermissionDenied\n",
        "import os"
      ],
      "execution_count": 1,
      "outputs": []
    },
    {
      "cell_type": "markdown",
      "source": [
        "Configure the GCP Project"
      ],
      "metadata": {
        "id": "MCR5G9MgQyyB"
      },
      "id": "MCR5G9MgQyyB"
    },
    {
      "cell_type": "code",
      "source": [
        "project = \"qwiklabs-gcp-02-4c9c7fb5e8ec\"\n",
        "location = \"us-central1\"\n",
        "aiplatform.init(project=project, location=location)"
      ],
      "metadata": {
        "id": "vpwFGMnKJeNj"
      },
      "id": "vpwFGMnKJeNj",
      "execution_count": 2,
      "outputs": []
    },
    {
      "cell_type": "markdown",
      "source": [
        "Initialize the threshold of the Safety Settings of the gemini"
      ],
      "metadata": {
        "id": "jO9aBY6kQ1l8"
      },
      "id": "jO9aBY6kQ1l8"
    },
    {
      "cell_type": "code",
      "source": [
        "safety_settings = [\n",
        "    SafetySetting(category=HarmCategory.HARM_CATEGORY_HARASSMENT, threshold=\"BLOCK_LOW_AND_ABOVE\"),\n",
        "    SafetySetting(category=HarmCategory.HARM_CATEGORY_HATE_SPEECH, threshold=\"BLOCK_LOW_AND_ABOVE\"),\n",
        "    SafetySetting(category=HarmCategory.HARM_CATEGORY_SEXUALLY_EXPLICIT, threshold=\"BLOCK_LOW_AND_ABOVE\"),\n",
        "    SafetySetting(category=HarmCategory.HARM_CATEGORY_DANGEROUS_CONTENT, threshold=\"BLOCK_LOW_AND_ABOVE\"),\n",
        "]"
      ],
      "metadata": {
        "id": "Rnhp3NteJaKD"
      },
      "id": "Rnhp3NteJaKD",
      "execution_count": 3,
      "outputs": []
    },
    {
      "cell_type": "markdown",
      "source": [
        "Generate the Gemini Modal with the Safety Settings configured"
      ],
      "metadata": {
        "id": "I-zM1NCgQ-fk"
      },
      "id": "I-zM1NCgQ-fk"
    },
    {
      "cell_type": "code",
      "source": [
        "model = GenerativeModel(\n",
        "    \"gemini-2.0-flash\",\n",
        "    safety_settings=safety_settings,\n",
        ")"
      ],
      "metadata": {
        "id": "agbDdnipJfax"
      },
      "id": "agbDdnipJfax",
      "execution_count": 4,
      "outputs": []
    },
    {
      "cell_type": "code",
      "source": [
        "chat = model.start_chat()"
      ],
      "metadata": {
        "id": "P2moEsTKMw-d"
      },
      "id": "P2moEsTKMw-d",
      "execution_count": 5,
      "outputs": []
    },
    {
      "cell_type": "markdown",
      "source": [
        "Implement prompt filtering and Validate model responses for safety"
      ],
      "metadata": {
        "id": "ZVE5LzkxRDR7"
      },
      "id": "ZVE5LzkxRDR7"
    },
    {
      "cell_type": "code",
      "source": [
        "def is_prompt_safe(prompt: str) -> bool:\n",
        "    \"\"\"\n",
        "    Check whether the user's prompt is considered safe by Gemini's safety filters.\n",
        "    \"\"\"\n",
        "    try:\n",
        "        response = model.generate_content(\n",
        "            prompt,\n",
        "            safety_settings=safety_settings,\n",
        "            stream=False\n",
        "        )\n",
        "\n",
        "        feedback = response.prompt_feedback\n",
        "        if feedback and feedback.block_reason:\n",
        "            print(f\"❌ Prompt blocked due to: {feedback.block_reason}\")\n",
        "            return False\n",
        "\n",
        "        return True\n",
        "    except Exception as e:\n",
        "        print(f\"⚠️ Error during prompt validation: {e}\")\n",
        "        return False\n"
      ],
      "metadata": {
        "id": "knSCPkvmJfYE"
      },
      "id": "knSCPkvmJfYE",
      "execution_count": 6,
      "outputs": []
    },
    {
      "cell_type": "code",
      "source": [
        "def is_response_safe(response) -> bool:\n",
        "    \"\"\"\n",
        "    Check whether the response is considered safe by Gemini's safety filters.\n",
        "    \"\"\"\n",
        "    try:\n",
        "        feedback = response.prompt_feedback\n",
        "        if feedback and feedback.block_reason:\n",
        "            print(f\"❌ Response blocked due to: {feedback.block_reason}\")\n",
        "            return False\n",
        "        return True\n",
        "    except Exception as e:\n",
        "        print(f\"⚠️ Error during response validation: {e}\")\n",
        "        return False\n"
      ],
      "metadata": {
        "id": "L-0S8iT4MzJM"
      },
      "id": "L-0S8iT4MzJM",
      "execution_count": 7,
      "outputs": []
    },
    {
      "cell_type": "code",
      "source": [
        "def safe_chat_with_user(prompt: str):\n",
        "    \"\"\"\n",
        "    Chat with the user, filtering unsafe prompts and responses.\n",
        "    \"\"\"\n",
        "    if not is_prompt_safe(prompt):\n",
        "        print(\"Gemini: Sorry, your input violates safety guidelines.\")\n",
        "        return\n",
        "\n",
        "    response = chat.send_message(prompt, safety_settings=safety_settings)\n",
        "\n",
        "    if not is_response_safe(response):\n",
        "        print(\"Gemini: I generated a response, but it was blocked for safety reasons.\")\n",
        "        return\n",
        "\n",
        "    print(\"Gemini:\", response.text.strip())\n",
        "\n",
        "# Run the chatbot\n",
        "print(\"🤖 Gemini Chatbot (type 'exit' or 'quit' to leave)\")\n",
        "while True:\n",
        "    user_input = input(\"You: \")\n",
        "    if user_input.lower() in [\"exit\", \"quit\",\"bye\"]:\n",
        "        print(\"👋 Bye!\")\n",
        "        break\n",
        "    safe_chat_with_user(user_input)"
      ],
      "metadata": {
        "colab": {
          "base_uri": "https://localhost:8080/"
        },
        "id": "30kwlUdBJfV7",
        "outputId": "b21c4754-5997-4faa-9d56-261976daf3e9"
      },
      "id": "30kwlUdBJfV7",
      "execution_count": 8,
      "outputs": [
        {
          "output_type": "stream",
          "name": "stdout",
          "text": [
            "🤖 Gemini Chatbot (type 'exit' or 'quit' to leave)\n",
            "You: hi. I am an aspiring engineer. I would like some tips on recent technology facts\n",
            "Gemini: Okay, great! Aspiring engineers need to stay informed about recent tech developments. Here's a breakdown of recent technology facts and tips on how to stay updated:\n",
            "\n",
            "**Key Areas to Focus On:**\n",
            "\n",
            "*   **Artificial Intelligence (AI) & Machine Learning (ML):**\n",
            "    *   **Large Language Models (LLMs):** (Think GPT-4, Llama 2, Gemini)\n",
            "        *   **Fact:** LLMs are rapidly evolving in terms of reasoning, coding capabilities, and multi-modality (handling text, images, audio, etc.).\n",
            "        *   **Fact:**  Open-source LLMs are becoming increasingly powerful, closing the gap with proprietary models.\n",
            "        *   **Example:**  The emergence of agents built on top of LLMs that can autonomously perform tasks by interacting with real-world tools and APIs.\n",
            "    *   **Generative AI:**\n",
            "        *   **Fact:** Generative AI is now being used to create not just images and text, but also code, music, video, and even drug candidates.\n",
            "        *   **Fact:**  Concerns around copyright, deepfakes, and misinformation are growing alongside the technology's capabilities.\n",
            "    *   **AI Ethics and Explainability:**\n",
            "        *   **Fact:** There's increasing focus on making AI systems more transparent (explainable AI or XAI) and mitigating bias.\n",
            "        *   **Fact:**  Regulations and standards are being developed to govern the ethical use of AI.\n",
            "*   **Quantum Computing:**\n",
            "    *   **Fact:** Quantum computers are still in their early stages, but significant progress is being made in increasing qubit counts and coherence times.\n",
            "    *   **Fact:**  Quantum computing holds the potential to revolutionize fields like drug discovery, materials science, and cryptography.\n",
            "    *   **Fact:**  Cloud-based quantum computing platforms are becoming more accessible to researchers and developers.\n",
            "*   **Biotechnology:**\n",
            "    *   **Fact:** CRISPR gene editing technology is rapidly advancing, leading to potential cures for genetic diseases.\n",
            "    *   **Fact:**  Synthetic biology is enabling the creation of new biological systems and materials with customized functions.\n",
            "    *   **Fact:**  Advancements in medical imaging and diagnostics are improving disease detection and treatment.\n",
            "*   **Nanotechnology:**\n",
            "    *   **Fact:** Nanomaterials are being used in a wide range of applications, from electronics and medicine to energy and environmental science.\n",
            "    *   **Fact:** Research is focusing on developing more sustainable and biocompatible nanomaterials.\n",
            "*   **Robotics and Automation:**\n",
            "    *   **Fact:**  Robots are becoming more sophisticated, capable of performing complex tasks in manufacturing, logistics, healthcare, and even agriculture.\n",
            "    *   **Fact:**  The convergence of AI and robotics is leading to the development of more autonomous and adaptable robots.\n",
            "    *   **Fact:**  Drones are being used for a growing number of applications, including delivery, inspection, and surveillance.\n",
            "*   **Augmented Reality (AR) and Virtual Reality (VR):**\n",
            "    *   **Fact:**  AR and VR technologies are improving in terms of display quality, tracking accuracy, and user comfort.\n",
            "    *   **Fact:**  Metaverse concepts are evolving, with potential applications in gaming, education, training, and remote collaboration.\n",
            "*   **Cybersecurity:**\n",
            "    *   **Fact:** Cyberattacks are becoming more sophisticated and frequent, targeting individuals, businesses, and governments.\n",
            "    *   **Fact:**  New security technologies are being developed to counter these threats, including AI-powered security systems, blockchain-based security solutions, and quantum-resistant cryptography.\n",
            "*   **Sustainable Technologies:**\n",
            "    *   **Fact:** There's a strong push for developing technologies that address climate change and promote sustainability.\n",
            "    *   **Fact:**  Renewable energy sources like solar and wind power are becoming more cost-competitive.\n",
            "    *   **Fact:**  Advances in energy storage technologies, such as batteries and hydrogen fuel cells, are crucial for enabling a sustainable energy future.\n",
            "    *   **Fact:** Carbon capture and storage (CCS) technologies are being developed to remove CO2 from the atmosphere.\n",
            "\n",
            "**Tips for Staying Updated:**\n",
            "\n",
            "1.  **Read Reputable Tech News Sources:**\n",
            "    *   **TechCrunch:** (techcrunch.com) - Covers startups, gadgets, and the tech industry.\n",
            "    *   **Wired:** (wired.com) -  Focuses on the impact of technology on culture, politics, and the economy.\n",
            "    *   **MIT Technology Review:** (technologyreview.com) - Offers in-depth analysis of emerging technologies.\n",
            "    *   **The Verge:** (theverge.com) -  Covers consumer technology and related news.\n",
            "    *   **IEEE Spectrum:** (spectrum.ieee.org) -  Published by the Institute of Electrical and Electronics Engineers, focusing on engineering and technology.\n",
            "    *   **Hacker News:** (news.ycombinator.com) - A community-driven news site focused on computer science and entrepreneurship.\n",
            "    *   **Ars Technica:** (arstechnica.com) -  Covers a wide range of technology topics, from science to gaming.\n",
            "\n",
            "2.  **Follow Industry Leaders and Experts on Social Media:**\n",
            "    *   **Twitter:** A great platform for short updates and discussions.  Follow researchers, engineers, CEOs, and thought leaders in your areas of interest.\n",
            "    *   **LinkedIn:** Connect with professionals in your field and join relevant groups to stay informed about industry news and trends.\n",
            "\n",
            "3.  **Subscribe to Newsletters and Blogs:**\n",
            "    *   Many tech companies, research institutions, and industry publications offer newsletters and blogs that provide valuable insights.\n",
            "\n",
            "4.  **Attend Conferences and Webinars:**\n",
            "    *   Industry conferences and webinars are excellent opportunities to learn about the latest advancements and network with other professionals.\n",
            "    *   Look for events related to your specific areas of interest (e.g., AI, robotics, cybersecurity).\n",
            "\n",
            "5.  **Take Online Courses and Tutorials:**\n",
            "    *   Platforms like Coursera, edX, Udacity, and Udemy offer a wide range of courses on emerging technologies.\n",
            "    *   This can help you develop a deeper understanding of the underlying principles and practical applications.\n",
            "\n",
            "6.  **Participate in Open-Source Projects:**\n",
            "    *   Contributing to open-source projects is a great way to learn new skills, collaborate with other developers, and stay up-to-date on the latest technologies.\n",
            "\n",
            "7.  **Read Research Papers:**\n",
            "    *   If you're interested in the cutting-edge of technology, reading research papers is essential.\n",
            "    *   Use databases like Google Scholar or IEEE Xplore to find relevant papers.\n",
            "\n",
            "8.  **Experiment and Build Things:**\n",
            "    *   The best way to learn about new technologies is to experiment with them.  Try building your own projects, even if they're simple.\n",
            "    *   Use development boards like Raspberry Pi or Arduino to experiment with embedded systems and IoT.\n",
            "\n",
            "9.  **Join Professional Organizations:**\n",
            "    *   Organizations like IEEE, ACM, and ASME offer resources, networking opportunities, and continuing education programs for engineers.\n",
            "\n",
            "10. **Be Curious and Ask Questions:**\n",
            "    *   Don't be afraid to ask questions and explore new topics. The tech world is constantly evolving, so it's important to stay curious and open-minded.\n",
            "\n",
            "**How to Tailor Your Learning:**\n",
            "\n",
            "*   **Identify Your Interests:**  Which areas of technology excite you the most?  Focus your initial efforts on those areas.\n",
            "*   **Define Your Goals:** What do you want to achieve as an engineer?  This will help you determine which technologies are most relevant to your career aspirations.\n",
            "*   **Start Small:** Don't try to learn everything at once.  Start with the basics and gradually build your knowledge and skills.\n",
            "*   **Be Consistent:**  Set aside time each week to learn about new technologies.  Even a small amount of consistent effort can make a big difference.\n",
            "\n",
            "By following these tips, you can stay informed about the latest technology facts and position yourself for success as an aspiring engineer. Good luck!\n",
            "You: Bye\n",
            "👋 Bye!\n"
          ]
        }
      ]
    }
  ],
  "metadata": {
    "kernelspec": {
      "display_name": "Python 3",
      "language": "python",
      "name": "python3"
    },
    "language_info": {
      "codemirror_mode": {
        "name": "ipython",
        "version": 3
      },
      "file_extension": ".py",
      "mimetype": "text/x-python",
      "name": "python",
      "nbconvert_exporter": "python",
      "pygments_lexer": "ipython3",
      "version": "3.10.10"
    },
    "colab": {
      "provenance": [],
      "name": "student-00-793a110b8712 (Jun 16, 2025, 10:36:14 AM)"
    }
  },
  "nbformat": 4,
  "nbformat_minor": 5
}